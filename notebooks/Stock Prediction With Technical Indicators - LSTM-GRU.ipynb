{
 "cells": [
  {
   "cell_type": "code",
   "execution_count": 4,
   "metadata": {},
   "outputs": [],
   "source": [
    "import pandas as pd\n",
    "import numpy as np\n",
    "import copy\n",
    "import matplotlib.pyplot as plt\n"
   ]
  },
  {
   "cell_type": "code",
   "execution_count": 5,
   "metadata": {},
   "outputs": [],
   "source": [
    "dataset = pd.read_csv(\"../data/ada.csv\")"
   ]
  },
  {
   "cell_type": "code",
   "execution_count": 6,
   "metadata": {},
   "outputs": [
    {
     "data": {
      "text/html": [
       "<div>\n",
       "<style scoped>\n",
       "    .dataframe tbody tr th:only-of-type {\n",
       "        vertical-align: middle;\n",
       "    }\n",
       "\n",
       "    .dataframe tbody tr th {\n",
       "        vertical-align: top;\n",
       "    }\n",
       "\n",
       "    .dataframe thead th {\n",
       "        text-align: right;\n",
       "    }\n",
       "</style>\n",
       "<table border=\"1\" class=\"dataframe\">\n",
       "  <thead>\n",
       "    <tr style=\"text-align: right;\">\n",
       "      <th></th>\n",
       "      <th>date</th>\n",
       "      <th>close</th>\n",
       "      <th>high</th>\n",
       "      <th>low</th>\n",
       "      <th>open</th>\n",
       "      <th>volume</th>\n",
       "      <th>adjClose</th>\n",
       "      <th>adjHigh</th>\n",
       "      <th>adjLow</th>\n",
       "      <th>adjOpen</th>\n",
       "      <th>adjVolume</th>\n",
       "      <th>divCash</th>\n",
       "      <th>splitFactor</th>\n",
       "    </tr>\n",
       "  </thead>\n",
       "  <tbody>\n",
       "    <tr>\n",
       "      <th>0</th>\n",
       "      <td>2017-12-29</td>\n",
       "      <td>0.517300</td>\n",
       "      <td>1.080000</td>\n",
       "      <td>0.400004</td>\n",
       "      <td>1.000000</td>\n",
       "      <td>4.262042e+06</td>\n",
       "      <td>0.517300</td>\n",
       "      <td>1.080000</td>\n",
       "      <td>0.400004</td>\n",
       "      <td>1.000000</td>\n",
       "      <td>4.262042e+06</td>\n",
       "      <td>0.0</td>\n",
       "      <td>1.0</td>\n",
       "    </tr>\n",
       "    <tr>\n",
       "      <th>1</th>\n",
       "      <td>2017-12-30</td>\n",
       "      <td>0.590030</td>\n",
       "      <td>0.694139</td>\n",
       "      <td>0.420000</td>\n",
       "      <td>0.520000</td>\n",
       "      <td>2.496892e+07</td>\n",
       "      <td>0.590030</td>\n",
       "      <td>0.694139</td>\n",
       "      <td>0.420000</td>\n",
       "      <td>0.520000</td>\n",
       "      <td>2.496892e+07</td>\n",
       "      <td>0.0</td>\n",
       "      <td>1.0</td>\n",
       "    </tr>\n",
       "    <tr>\n",
       "      <th>2</th>\n",
       "      <td>2017-12-31</td>\n",
       "      <td>0.710000</td>\n",
       "      <td>0.740000</td>\n",
       "      <td>0.590020</td>\n",
       "      <td>0.590030</td>\n",
       "      <td>1.324840e+07</td>\n",
       "      <td>0.710000</td>\n",
       "      <td>0.740000</td>\n",
       "      <td>0.590020</td>\n",
       "      <td>0.590030</td>\n",
       "      <td>1.324840e+07</td>\n",
       "      <td>0.0</td>\n",
       "      <td>1.0</td>\n",
       "    </tr>\n",
       "    <tr>\n",
       "      <th>3</th>\n",
       "      <td>2018-01-01</td>\n",
       "      <td>0.702160</td>\n",
       "      <td>0.715000</td>\n",
       "      <td>0.632000</td>\n",
       "      <td>0.703400</td>\n",
       "      <td>1.380754e+07</td>\n",
       "      <td>0.702160</td>\n",
       "      <td>0.715000</td>\n",
       "      <td>0.632000</td>\n",
       "      <td>0.703400</td>\n",
       "      <td>1.380754e+07</td>\n",
       "      <td>0.0</td>\n",
       "      <td>1.0</td>\n",
       "    </tr>\n",
       "    <tr>\n",
       "      <th>4</th>\n",
       "      <td>2018-01-02</td>\n",
       "      <td>0.762000</td>\n",
       "      <td>0.800000</td>\n",
       "      <td>0.675020</td>\n",
       "      <td>0.704000</td>\n",
       "      <td>8.440669e+06</td>\n",
       "      <td>0.762000</td>\n",
       "      <td>0.800000</td>\n",
       "      <td>0.675020</td>\n",
       "      <td>0.704000</td>\n",
       "      <td>8.440669e+06</td>\n",
       "      <td>0.0</td>\n",
       "      <td>1.0</td>\n",
       "    </tr>\n",
       "    <tr>\n",
       "      <th>...</th>\n",
       "      <td>...</td>\n",
       "      <td>...</td>\n",
       "      <td>...</td>\n",
       "      <td>...</td>\n",
       "      <td>...</td>\n",
       "      <td>...</td>\n",
       "      <td>...</td>\n",
       "      <td>...</td>\n",
       "      <td>...</td>\n",
       "      <td>...</td>\n",
       "      <td>...</td>\n",
       "      <td>...</td>\n",
       "      <td>...</td>\n",
       "    </tr>\n",
       "    <tr>\n",
       "      <th>1180</th>\n",
       "      <td>2021-04-27</td>\n",
       "      <td>1.306639</td>\n",
       "      <td>1.333633</td>\n",
       "      <td>1.223582</td>\n",
       "      <td>1.237973</td>\n",
       "      <td>4.791092e+08</td>\n",
       "      <td>1.306639</td>\n",
       "      <td>1.333633</td>\n",
       "      <td>1.223582</td>\n",
       "      <td>1.237973</td>\n",
       "      <td>4.791092e+08</td>\n",
       "      <td>0.0</td>\n",
       "      <td>1.0</td>\n",
       "    </tr>\n",
       "    <tr>\n",
       "      <th>1181</th>\n",
       "      <td>2021-04-28</td>\n",
       "      <td>1.337979</td>\n",
       "      <td>1.349051</td>\n",
       "      <td>1.233085</td>\n",
       "      <td>1.306617</td>\n",
       "      <td>4.717582e+08</td>\n",
       "      <td>1.337979</td>\n",
       "      <td>1.349051</td>\n",
       "      <td>1.233085</td>\n",
       "      <td>1.306617</td>\n",
       "      <td>4.717582e+08</td>\n",
       "      <td>0.0</td>\n",
       "      <td>1.0</td>\n",
       "    </tr>\n",
       "    <tr>\n",
       "      <th>1182</th>\n",
       "      <td>2021-04-29</td>\n",
       "      <td>1.306542</td>\n",
       "      <td>1.411739</td>\n",
       "      <td>1.266448</td>\n",
       "      <td>1.337613</td>\n",
       "      <td>6.828781e+08</td>\n",
       "      <td>1.306542</td>\n",
       "      <td>1.411739</td>\n",
       "      <td>1.266448</td>\n",
       "      <td>1.337613</td>\n",
       "      <td>6.828781e+08</td>\n",
       "      <td>0.0</td>\n",
       "      <td>1.0</td>\n",
       "    </tr>\n",
       "    <tr>\n",
       "      <th>1183</th>\n",
       "      <td>2021-04-30</td>\n",
       "      <td>1.353140</td>\n",
       "      <td>1.370994</td>\n",
       "      <td>1.285897</td>\n",
       "      <td>1.306601</td>\n",
       "      <td>3.870279e+08</td>\n",
       "      <td>1.353140</td>\n",
       "      <td>1.370994</td>\n",
       "      <td>1.285897</td>\n",
       "      <td>1.306601</td>\n",
       "      <td>3.870279e+08</td>\n",
       "      <td>0.0</td>\n",
       "      <td>1.0</td>\n",
       "    </tr>\n",
       "    <tr>\n",
       "      <th>1184</th>\n",
       "      <td>2021-05-01</td>\n",
       "      <td>1.332451</td>\n",
       "      <td>1.375228</td>\n",
       "      <td>1.312470</td>\n",
       "      <td>1.353703</td>\n",
       "      <td>1.926673e+08</td>\n",
       "      <td>1.332451</td>\n",
       "      <td>1.375228</td>\n",
       "      <td>1.312470</td>\n",
       "      <td>1.353703</td>\n",
       "      <td>1.926673e+08</td>\n",
       "      <td>0.0</td>\n",
       "      <td>1.0</td>\n",
       "    </tr>\n",
       "  </tbody>\n",
       "</table>\n",
       "<p>1185 rows × 13 columns</p>\n",
       "</div>"
      ],
      "text/plain": [
       "            date     close      high       low      open        volume  \\\n",
       "0     2017-12-29  0.517300  1.080000  0.400004  1.000000  4.262042e+06   \n",
       "1     2017-12-30  0.590030  0.694139  0.420000  0.520000  2.496892e+07   \n",
       "2     2017-12-31  0.710000  0.740000  0.590020  0.590030  1.324840e+07   \n",
       "3     2018-01-01  0.702160  0.715000  0.632000  0.703400  1.380754e+07   \n",
       "4     2018-01-02  0.762000  0.800000  0.675020  0.704000  8.440669e+06   \n",
       "...          ...       ...       ...       ...       ...           ...   \n",
       "1180  2021-04-27  1.306639  1.333633  1.223582  1.237973  4.791092e+08   \n",
       "1181  2021-04-28  1.337979  1.349051  1.233085  1.306617  4.717582e+08   \n",
       "1182  2021-04-29  1.306542  1.411739  1.266448  1.337613  6.828781e+08   \n",
       "1183  2021-04-30  1.353140  1.370994  1.285897  1.306601  3.870279e+08   \n",
       "1184  2021-05-01  1.332451  1.375228  1.312470  1.353703  1.926673e+08   \n",
       "\n",
       "      adjClose   adjHigh    adjLow   adjOpen     adjVolume  divCash  \\\n",
       "0     0.517300  1.080000  0.400004  1.000000  4.262042e+06      0.0   \n",
       "1     0.590030  0.694139  0.420000  0.520000  2.496892e+07      0.0   \n",
       "2     0.710000  0.740000  0.590020  0.590030  1.324840e+07      0.0   \n",
       "3     0.702160  0.715000  0.632000  0.703400  1.380754e+07      0.0   \n",
       "4     0.762000  0.800000  0.675020  0.704000  8.440669e+06      0.0   \n",
       "...        ...       ...       ...       ...           ...      ...   \n",
       "1180  1.306639  1.333633  1.223582  1.237973  4.791092e+08      0.0   \n",
       "1181  1.337979  1.349051  1.233085  1.306617  4.717582e+08      0.0   \n",
       "1182  1.306542  1.411739  1.266448  1.337613  6.828781e+08      0.0   \n",
       "1183  1.353140  1.370994  1.285897  1.306601  3.870279e+08      0.0   \n",
       "1184  1.332451  1.375228  1.312470  1.353703  1.926673e+08      0.0   \n",
       "\n",
       "      splitFactor  \n",
       "0             1.0  \n",
       "1             1.0  \n",
       "2             1.0  \n",
       "3             1.0  \n",
       "4             1.0  \n",
       "...           ...  \n",
       "1180          1.0  \n",
       "1181          1.0  \n",
       "1182          1.0  \n",
       "1183          1.0  \n",
       "1184          1.0  \n",
       "\n",
       "[1185 rows x 13 columns]"
      ]
     },
     "execution_count": 6,
     "metadata": {},
     "output_type": "execute_result"
    }
   ],
   "source": [
    "dataset"
   ]
  },
  {
   "cell_type": "code",
   "execution_count": 7,
   "metadata": {},
   "outputs": [],
   "source": [
    "data = copy.deepcopy(dataset)\n",
    "data = data.drop(columns=['date', 'volume', 'adjClose', 'adjHigh','adjLow','adjOpen', 'adjVolume', 'divCash', 'splitFactor'], axis=1)\n"
   ]
  },
  {
   "cell_type": "code",
   "execution_count": null,
   "metadata": {},
   "outputs": [],
   "source": []
  },
  {
   "cell_type": "code",
   "execution_count": 9,
   "metadata": {},
   "outputs": [
    {
     "name": "stdout",
     "output_type": "stream",
     "text": [
      "No empty values\n"
     ]
    }
   ],
   "source": [
    "if data.isnull().sum().sum() >0:\n",
    "    data = data.fillna(method='pad') # filling null values with their previous\n",
    "    print ('filled empty values')\n",
    "else:\n",
    "    print ('No empty values')"
   ]
  },
  {
   "cell_type": "markdown",
   "metadata": {},
   "source": [
    "# Feature Engineering\n"
   ]
  },
  {
   "cell_type": "code",
   "execution_count": 10,
   "metadata": {},
   "outputs": [],
   "source": [
    "tek_ind_1 = copy.deepcopy(data)\n",
    "tek_ind_2 = copy.deepcopy(data)"
   ]
  },
  {
   "cell_type": "code",
   "execution_count": null,
   "metadata": {},
   "outputs": [],
   "source": []
  },
  {
   "cell_type": "code",
   "execution_count": 11,
   "metadata": {},
   "outputs": [],
   "source": [
    "    \n",
    "def create_technical_indicators_set_1(data):\n",
    "    data = _get_daily_return(data)\n",
    "    data = _get_price_gap(data)\n",
    "    data = _get_moving_average(data)\n",
    "    data = _get_rsi(data)\n",
    "    data = _get_R_precentage(data)\n",
    "    data = _get_bollinger_bands(data)\n",
    "    data = _get_exponential_ma(data)\n",
    "    data = _get_momentum(data)\n",
    "    return data\n",
    "\n",
    "\n",
    "def _get_daily_return(data):\n",
    "    # Percentage change between the current and a prior element\n",
    "    data['daily_return'] = data.close.pct_change().fillna(0)\n",
    "    \n",
    "    # Cummulative Product (+1 is used not so we can ignore the 0s in the first couple rows)\n",
    "    data['cum_daily_return'] = (1 + data['daily_return']).cumprod() \n",
    "    return data\n",
    "\n",
    "def _get_price_gap(data):\n",
    "    data['H-L'] = data.high - data.low\n",
    "    data['C-O'] = data.close - data.open\n",
    "    return data\n",
    "\n",
    "def _get_moving_average(data):\n",
    "    data['10day Ma'] = data.close.shift(1).rolling(window = 10).mean().fillna(0)\n",
    "    data['50day Ma'] = data.close.shift(1).rolling(window = 50).mean().fillna(0)\n",
    "    data['200day Ma'] = data.close.shift(1).rolling(window = 200).mean().fillna(0)\n",
    "    \n",
    "    data['ma7'] = data.close.rolling(window=7).mean().fillna(0)\n",
    "    data['ma21'] = data.close.rolling(window=21).mean().fillna(0)\n",
    "    \n",
    "    # creating MA convergeance and divergence\n",
    "    data['ema_26'] = data.close.ewm(span=26).mean().fillna(0)\n",
    "    data['ema_12'] = data.close.ewm(span=12).mean().fillna(0)\n",
    "    data['macd'] = (data['ema_12'] - data['ema_26'])\n",
    "    \n",
    "    return data\n",
    "    \n",
    "\n",
    "def _get_rsi(data):\n",
    "    import talib\n",
    "    data['rsi'] = talib.RSI(data.close.values, timeperiod = 14)\n",
    "    return data\n",
    "\n",
    "def _get_R_precentage(data):\n",
    "    import talib\n",
    "    data['R%'] = talib.WILLR(data.high.values, data.low.values, data.close.values,14)\n",
    "    return data\n",
    "\n",
    "def _get_bollinger_bands(data, window = 21,no_of_std =2):\n",
    "    #calculate rolling mean and standard deviation using number of days set above\n",
    "    rolling_mean = data.close.rolling(window).mean()\n",
    "    rolling_std = data.close.rolling(window).std()\n",
    "    #Create upper and lower Bollinger bands\n",
    "    data['bb_high'] =(rolling_mean + (rolling_std * no_of_std)).fillna(0)\n",
    "    data['bb_low'] =(rolling_mean - (rolling_std * no_of_std)).fillna(0)\n",
    "    return data\n",
    "\n",
    "def _get_exponential_ma(data):\n",
    "    data['ema'] = data.close.ewm(com=0.5).mean()\n",
    "    return data\n",
    "def _get_momentum(data):\n",
    "    data['momentum'] = data.close - 1\n",
    "    return data"
   ]
  },
  {
   "cell_type": "code",
   "execution_count": 12,
   "metadata": {},
   "outputs": [],
   "source": [
    "tek_ind_1 = create_technical_indicators_set_1(tek_ind_1)"
   ]
  },
  {
   "cell_type": "code",
   "execution_count": null,
   "metadata": {},
   "outputs": [],
   "source": []
  },
  {
   "cell_type": "code",
   "execution_count": null,
   "metadata": {},
   "outputs": [],
   "source": []
  },
  {
   "cell_type": "code",
   "execution_count": 13,
   "metadata": {},
   "outputs": [],
   "source": [
    "# plt.figure(figsize=(15, 10))\n",
    "# plt.plot(tek_ind_1['close'], label ='Actual')\n",
    "# plt.plot(tek_ind_1['bb_high'], label ='BBHigh')\n",
    "# plt.plot(tek_ind_1['bb_low'], label ='BBLow')\n",
    "# plt.legend(loc='best')"
   ]
  },
  {
   "cell_type": "code",
   "execution_count": 14,
   "metadata": {},
   "outputs": [],
   "source": [
    "# plt.figure(figsize=(15, 10))\n",
    "# plt.plot(tek_ind_1['10day Ma'], label ='10day Ma')\n",
    "# plt.plot(tek_ind_1['50day Ma'], label ='50day Ma')\n",
    "# plt.plot(tek_ind_1['200day Ma'], label ='200day Ma')\n",
    "# plt.legend(loc='best')"
   ]
  },
  {
   "cell_type": "code",
   "execution_count": 19,
   "metadata": {},
   "outputs": [],
   "source": [
    "def prepare_data(data, lookback = 20):\n",
    "    data = _check_null_values(data)\n",
    "    values = pd.DataFrame(data.values.astype('float32'))\n",
    "    values = _scale_data(values)\n",
    "    values = _create_time_series(values)\n",
    "    return _split_data(values)\n",
    "    \n",
    "\n",
    "def _check_null_values(data):\n",
    "    if data.isnull().sum().sum() >0 :\n",
    "        data = data.fillna(0) # filling null values with their previous\n",
    "        print ('filled empty values')\n",
    "    else:\n",
    "        print ('No empty values')\n",
    "    return data\n",
    "\n",
    "def _scale_data(data):\n",
    "    from sklearn.preprocessing import MinMaxScaler\n",
    "    scaler = MinMaxScaler()\n",
    "    return scaler.fit_transform(data)\n",
    "\n",
    "def _create_time_series(data, lookback=20):\n",
    "    timeseries = []\n",
    "    for index in range(len(data) - lookback): \n",
    "        timeseries.append(data[index: index + lookback])\n",
    "    timeseries = np.array(timeseries);\n",
    "    return timeseries\n",
    "\n",
    "def _split_data(data_raw, testSize = 0.1):\n",
    "    data = np.array(data_raw);\n",
    "    test_set_size = int(np.round(testSize*data.shape[0]));\n",
    "    train_set_size = data.shape[0] - (test_set_size);\n",
    "    \n",
    "    x_train = data[:train_set_size,:-1,:]\n",
    "    y_train = data[:train_set_size,-1,-1]\n",
    "    \n",
    "    x_test = data[train_set_size:,:-1,:]\n",
    "    y_test = data[train_set_size:,-1,-1]\n",
    "    \n",
    "    return [x_train, y_train, x_test, y_test]"
   ]
  },
  {
   "cell_type": "code",
   "execution_count": 22,
   "metadata": {},
   "outputs": [
    {
     "name": "stdout",
     "output_type": "stream",
     "text": [
      "filled empty values\n"
     ]
    }
   ],
   "source": [
    "lookback = 20\n",
    "x_train, y_train, x_test, y_test = prepare_data(tek_ind_1)\n"
   ]
  },
  {
   "cell_type": "code",
   "execution_count": null,
   "metadata": {},
   "outputs": [],
   "source": []
  },
  {
   "cell_type": "markdown",
   "metadata": {},
   "source": [
    "# TensorFlow"
   ]
  },
  {
   "cell_type": "markdown",
   "metadata": {},
   "source": [
    "## LSTM"
   ]
  },
  {
   "cell_type": "code",
   "execution_count": null,
   "metadata": {},
   "outputs": [
    {
     "name": "stdout",
     "output_type": "stream",
     "text": [
      "Model: \"sequential\"\n",
      "_________________________________________________________________\n",
      "Layer (type)                 Output Shape              Param #   \n",
      "=================================================================\n",
      "lstm (LSTM)                  (None, 19, 75)            29400     \n",
      "_________________________________________________________________\n",
      "lstm_1 (LSTM)                (None, 19, 30)            12720     \n",
      "_________________________________________________________________\n",
      "lstm_2 (LSTM)                (None, 19, 30)            7320      \n",
      "_________________________________________________________________\n",
      "dense (Dense)                (None, 19, 1)             31        \n",
      "=================================================================\n",
      "Total params: 49,471\n",
      "Trainable params: 49,471\n",
      "Non-trainable params: 0\n",
      "_________________________________________________________________\n",
      "Epoch 1/100\n",
      "33/33 [==============================] - 2s 56ms/step - loss: 0.0448 - val_loss: 0.5403\n",
      "Epoch 2/100\n",
      "33/33 [==============================] - 1s 20ms/step - loss: 0.0328 - val_loss: 0.4899\n",
      "Epoch 3/100\n",
      "33/33 [==============================] - 1s 20ms/step - loss: 0.0351 - val_loss: 0.4290\n",
      "Epoch 4/100\n",
      "33/33 [==============================] - 1s 20ms/step - loss: 0.0310 - val_loss: 0.5217\n",
      "Epoch 5/100\n",
      "33/33 [==============================] - 1s 20ms/step - loss: 0.0364 - val_loss: 0.5015\n",
      "Epoch 6/100\n",
      "33/33 [==============================] - 1s 20ms/step - loss: 0.0401 - val_loss: 0.4424\n",
      "Epoch 7/100\n",
      "33/33 [==============================] - 1s 21ms/step - loss: 0.0262 - val_loss: 0.3667\n",
      "Epoch 8/100\n",
      "33/33 [==============================] - 1s 20ms/step - loss: 0.0285 - val_loss: 0.5053\n",
      "Epoch 9/100\n",
      "33/33 [==============================] - 1s 22ms/step - loss: 0.0245 - val_loss: 0.3589\n",
      "Epoch 10/100\n",
      "33/33 [==============================] - 1s 20ms/step - loss: 0.0276 - val_loss: 0.5393\n",
      "Epoch 11/100\n",
      "33/33 [==============================] - 1s 19ms/step - loss: 0.0258 - val_loss: 0.4075\n",
      "Epoch 12/100\n",
      "33/33 [==============================] - 1s 20ms/step - loss: 0.0240 - val_loss: 0.5103\n",
      "Epoch 13/100\n",
      "33/33 [==============================] - 1s 19ms/step - loss: 0.0237 - val_loss: 0.3952\n",
      "Epoch 14/100\n",
      "33/33 [==============================] - 1s 19ms/step - loss: 0.0216 - val_loss: 0.5047\n",
      "Epoch 15/100\n",
      "33/33 [==============================] - 1s 20ms/step - loss: 0.0205 - val_loss: 0.3976\n",
      "Epoch 16/100\n",
      "33/33 [==============================] - 1s 19ms/step - loss: 0.0204 - val_loss: 0.4988\n",
      "Epoch 17/100\n",
      "33/33 [==============================] - 1s 19ms/step - loss: 0.0198 - val_loss: 0.4116\n",
      "Epoch 18/100\n",
      "33/33 [==============================] - 1s 19ms/step - loss: 0.0197 - val_loss: 0.4910\n",
      "Epoch 19/100\n",
      "33/33 [==============================] - 1s 19ms/step - loss: 0.0183 - val_loss: 0.4096\n",
      "Epoch 20/100\n",
      "33/33 [==============================] - 1s 19ms/step - loss: 0.0185 - val_loss: 0.4846\n",
      "Epoch 21/100\n",
      "33/33 [==============================] - 1s 19ms/step - loss: 0.0174 - val_loss: 0.4115\n",
      "Epoch 22/100\n",
      "33/33 [==============================] - 1s 19ms/step - loss: 0.0180 - val_loss: 0.4766\n",
      "Epoch 23/100\n",
      "33/33 [==============================] - 1s 19ms/step - loss: 0.0169 - val_loss: 0.4042\n",
      "Epoch 24/100\n",
      "33/33 [==============================] - 1s 19ms/step - loss: 0.0173 - val_loss: 0.4752\n",
      "Epoch 25/100\n",
      "33/33 [==============================] - 1s 19ms/step - loss: 0.0163 - val_loss: 0.4029\n",
      "Epoch 26/100\n",
      "33/33 [==============================] - 1s 19ms/step - loss: 0.0167 - val_loss: 0.4700\n",
      "Epoch 27/100\n",
      "33/33 [==============================] - 1s 19ms/step - loss: 0.0157 - val_loss: 0.4014\n",
      "Epoch 28/100\n",
      "33/33 [==============================] - 1s 19ms/step - loss: 0.0163 - val_loss: 0.4665\n",
      "Epoch 29/100\n",
      "33/33 [==============================] - 1s 19ms/step - loss: 0.0154 - val_loss: 0.3975\n",
      "Epoch 30/100\n",
      "33/33 [==============================] - 1s 19ms/step - loss: 0.0159 - val_loss: 0.4645\n",
      "Epoch 31/100\n",
      "33/33 [==============================] - 1s 19ms/step - loss: 0.0150 - val_loss: 0.3952\n",
      "Epoch 32/100\n",
      "33/33 [==============================] - 1s 19ms/step - loss: 0.0154 - val_loss: 0.4614\n",
      "Epoch 33/100\n",
      "33/33 [==============================] - 1s 19ms/step - loss: 0.0147 - val_loss: 0.3953\n",
      "Epoch 34/100\n",
      "33/33 [==============================] - 1s 19ms/step - loss: 0.0150 - val_loss: 0.4565\n",
      "Epoch 35/100\n",
      "33/33 [==============================] - 1s 20ms/step - loss: 0.0143 - val_loss: 0.3941\n",
      "Epoch 36/100\n",
      "33/33 [==============================] - 1s 22ms/step - loss: 0.0147 - val_loss: 0.4516\n",
      "Epoch 37/100\n",
      "33/33 [==============================] - 1s 20ms/step - loss: 0.0140 - val_loss: 0.3921\n",
      "Epoch 38/100\n",
      "33/33 [==============================] - 1s 19ms/step - loss: 0.0145 - val_loss: 0.4496\n",
      "Epoch 39/100\n",
      "33/33 [==============================] - 1s 18ms/step - loss: 0.0138 - val_loss: 0.3920\n",
      "Epoch 40/100\n",
      "33/33 [==============================] - 1s 18ms/step - loss: 0.0142 - val_loss: 0.4468\n",
      "Epoch 41/100\n",
      "33/33 [==============================] - 1s 19ms/step - loss: 0.0136 - val_loss: 0.3912\n",
      "Epoch 42/100\n",
      "33/33 [==============================] - 1s 18ms/step - loss: 0.0140 - val_loss: 0.4447\n",
      "Epoch 43/100\n",
      "33/33 [==============================] - 1s 18ms/step - loss: 0.0134 - val_loss: 0.3910\n",
      "Epoch 44/100\n",
      "10/33 [========>.....................] - ETA: 0s - loss: 0.0200"
     ]
    }
   ],
   "source": [
    "import tensorflow as tf\n",
    "from tensorflow import keras\n",
    "from tensorflow.keras import layers\n",
    "\n",
    "model_lstm = tf.keras.Sequential()\n",
    "model_lstm.add(tf.keras.layers.LSTM(units=75, return_sequences =True,input_shape=(x_train.shape[1], x_train.shape[2])))\n",
    "model_lstm.add(tf.keras.layers.LSTM(units=30, return_sequences =True))\n",
    "model_lstm.add(tf.keras.layers.LSTM(units=30, return_sequences =True))\n",
    "\n",
    "model_lstm.add(tf.keras.layers.Dense(units=1))\n",
    "model_lstm.compile(loss='mae', optimizer='adam')\n",
    "model_lstm.summary()\n",
    "\n",
    "history_lstm = model_lstm.fit(x_train, y_train, epochs =100, batch_size=32, validation_data =(x_test, y_test), shuffle=False)"
   ]
  },
  {
   "cell_type": "code",
   "execution_count": null,
   "metadata": {},
   "outputs": [],
   "source": [
    "# import matplotlib.pyplot as plt\n",
    "# plt.figure(figsize=(10, 6))\n",
    "# plt.plot(history_lstm.history['loss'], label ='train_loss', color='red')\n",
    "# plt.plot(history_lstm.history['val_loss'], label ='test_loss', color='blue')\n",
    "# plt.xlabel('epochs')\n",
    "# plt.ylabel('loss')\n",
    "# plt.legend(loc='best')"
   ]
  },
  {
   "cell_type": "code",
   "execution_count": null,
   "metadata": {},
   "outputs": [],
   "source": [
    "x_test.shape"
   ]
  },
  {
   "cell_type": "code",
   "execution_count": null,
   "metadata": {},
   "outputs": [],
   "source": [
    "y_pred_tf_lstm = model_lstm.predict(x_test)\n",
    "\n",
    "y_pred_tf_lstm = y_pred_tf_lstm[:, -1, 0]"
   ]
  },
  {
   "cell_type": "code",
   "execution_count": null,
   "metadata": {},
   "outputs": [],
   "source": [
    "y_test.shape"
   ]
  },
  {
   "cell_type": "code",
   "execution_count": null,
   "metadata": {},
   "outputs": [],
   "source": [
    "y_pred_tf_lstm.shape"
   ]
  },
  {
   "cell_type": "code",
   "execution_count": null,
   "metadata": {},
   "outputs": [],
   "source": [
    "import matplotlib.pyplot as plt\n",
    "plt.figure(figsize=(15, 10))\n",
    "plt.plot(y_pred_tf_lstm, label ='pred')\n",
    "plt.plot(y_test, label ='actual')\n",
    "plt.legend(loc='best')"
   ]
  },
  {
   "cell_type": "code",
   "execution_count": null,
   "metadata": {},
   "outputs": [],
   "source": [
    "# smaller test size\n",
    "import matplotlib.pyplot as plt\n",
    "plt.figure(figsize=(15, 10))\n",
    "plt.plot(y_pred_tf_lstm, label ='pred')\n",
    "plt.plot(y_test, label ='actual')\n",
    "plt.legend(loc='best')"
   ]
  },
  {
   "cell_type": "markdown",
   "metadata": {},
   "source": [
    "## GRU\n"
   ]
  },
  {
   "cell_type": "code",
   "execution_count": null,
   "metadata": {},
   "outputs": [],
   "source": [
    "import tensorflow as tf\n",
    "from tensorflow import keras\n",
    "from tensorflow.keras import layers\n",
    "\n",
    "model_gru = tf.keras.Sequential()\n",
    "model_gru.add(tf.keras.layers.GRU(units=75, return_sequences =True,input_shape=(x_train.shape[1], x_train.shape[2])))\n",
    "model_gru.add(tf.keras.layers.GRU(units=30, return_sequences =True))\n",
    "model_gru.add(tf.keras.layers.GRU(units=30))\n",
    "model_gru.add(tf.keras.layers.Dense(units=1))\n",
    "\n",
    "model_gru.compile(loss='mae', optimizer='adam')\n",
    "model_gru.summary()\n",
    "\n",
    "history_gru = model_gru.fit(x_train, y_train, epochs =100, batch_size=32, validation_data =(x_test, y_test), shuffle=False)"
   ]
  },
  {
   "cell_type": "code",
   "execution_count": null,
   "metadata": {},
   "outputs": [],
   "source": []
  },
  {
   "cell_type": "code",
   "execution_count": null,
   "metadata": {},
   "outputs": [],
   "source": [
    "# import matplotlib.pyplot as plt\n",
    "# plt.figure(figsize=(10, 6))\n",
    "# plt.plot(history_gru.history['loss'], label ='train_loss', color='red')\n",
    "# plt.plot(history_gru.history['val_loss'], label ='test_loss', color='blue')\n",
    "# plt.xlabel('epochs')\n",
    "# plt.ylabel('loss')\n",
    "# plt.legend(loc='best')"
   ]
  },
  {
   "cell_type": "code",
   "execution_count": null,
   "metadata": {},
   "outputs": [],
   "source": [
    "y_pred_tf_gru = model_gru.predict(x_test)\n",
    "import matplotlib.pyplot as plt\n",
    "plt.figure(figsize=(15, 10))\n",
    "plt.plot(y_pred_tf_gru, label ='pred')\n",
    "plt.plot(y_test, label ='actual')\n",
    "plt.legend(loc='best')"
   ]
  },
  {
   "cell_type": "code",
   "execution_count": null,
   "metadata": {},
   "outputs": [],
   "source": []
  },
  {
   "cell_type": "code",
   "execution_count": null,
   "metadata": {},
   "outputs": [],
   "source": [
    "# scaler.scale_\n",
    "# normal_scale = 1/5.21225901e-05\n",
    "\n",
    "# y_pred = y_pred * normal_scale\n",
    "# y_test = y_test * normal_scale\n",
    "\n",
    "# mean_y_test = y_test.mean()\n",
    "# mean_y_pred = y_pred.mean()\n",
    "\n",
    "# print(mean_y_test, mean_y_pred)\n",
    "# accuracy = round((mean_y_test/mean_y_pred )*100, 2)\n",
    "# accuracy"
   ]
  },
  {
   "cell_type": "code",
   "execution_count": null,
   "metadata": {},
   "outputs": [],
   "source": [
    "# X_train.shape"
   ]
  },
  {
   "cell_type": "code",
   "execution_count": null,
   "metadata": {},
   "outputs": [],
   "source": [
    "print (x_train.shape)\n",
    "print (y_train.shape)\n",
    "print (x_test.shape)\n",
    "print (y_test.shape)"
   ]
  },
  {
   "cell_type": "code",
   "execution_count": null,
   "metadata": {},
   "outputs": [],
   "source": []
  },
  {
   "cell_type": "markdown",
   "metadata": {},
   "source": [
    "# Pytorch"
   ]
  },
  {
   "cell_type": "code",
   "execution_count": 40,
   "metadata": {},
   "outputs": [],
   "source": [
    "input_dim = 22\n",
    "hidden_dim = 32\n",
    "num_layers = 2\n",
    "output_dim = 1\n",
    "num_epochs = 100"
   ]
  },
  {
   "cell_type": "code",
   "execution_count": 41,
   "metadata": {},
   "outputs": [],
   "source": [
    "import torch\n",
    "import torch.nn as nn\n",
    "\n",
    "x_train_gru = torch.from_numpy(x_train).type(torch.Tensor)\n",
    "x_test_gru = torch.from_numpy(x_test).type(torch.Tensor)\n",
    "y_train_gru = torch.from_numpy(y_train).type(torch.Tensor)\n",
    "y_test_gru = torch.from_numpy(y_test).type(torch.Tensor)\n"
   ]
  },
  {
   "cell_type": "code",
   "execution_count": null,
   "metadata": {},
   "outputs": [],
   "source": []
  },
  {
   "cell_type": "code",
   "execution_count": 42,
   "metadata": {},
   "outputs": [],
   "source": [
    "class GRU(nn.Module):\n",
    "    def __init__(self, input_dim, hidden_dim, num_layers, output_dim):\n",
    "        super(GRU, self).__init__()\n",
    "        self.hidden_dim = hidden_dim\n",
    "        self.num_layers = num_layers\n",
    "        \n",
    "        self.gru = nn.GRU(input_dim, hidden_dim, num_layers, batch_first=True)\n",
    "        self.fc = nn.Linear(hidden_dim, output_dim)\n",
    "\n",
    "    def forward(self, x):\n",
    "        h0 = torch.zeros(self.num_layers, x.size(0), self.hidden_dim).requires_grad_()\n",
    "        out, (hn) = self.gru(x, (h0.detach()))\n",
    "        out = self.fc(out[:, -1, :]) \n",
    "        return out"
   ]
  },
  {
   "cell_type": "code",
   "execution_count": 43,
   "metadata": {},
   "outputs": [],
   "source": [
    "model_pt_gru = GRU(input_dim=input_dim, hidden_dim=hidden_dim, output_dim=output_dim, num_layers=num_layers)\n",
    "criterion = torch.nn.MSELoss(reduction='mean')\n",
    "optimiser = torch.optim.Adam(model_pt_gru.parameters(), lr=0.01)"
   ]
  },
  {
   "cell_type": "code",
   "execution_count": 44,
   "metadata": {},
   "outputs": [
    {
     "ename": "NameError",
     "evalue": "name 'x_train_lstm' is not defined",
     "output_type": "error",
     "traceback": [
      "\u001b[1;31m---------------------------------------------------------------------------\u001b[0m",
      "\u001b[1;31mNameError\u001b[0m                                 Traceback (most recent call last)",
      "\u001b[1;32m<ipython-input-44-f6f6f576e52f>\u001b[0m in \u001b[0;36m<module>\u001b[1;34m\u001b[0m\n\u001b[0;32m      3\u001b[0m \u001b[1;33m\u001b[0m\u001b[0m\n\u001b[0;32m      4\u001b[0m \u001b[1;32mfor\u001b[0m \u001b[0mt\u001b[0m \u001b[1;32min\u001b[0m \u001b[0mrange\u001b[0m\u001b[1;33m(\u001b[0m\u001b[0mnum_epochs\u001b[0m\u001b[1;33m)\u001b[0m\u001b[1;33m:\u001b[0m\u001b[1;33m\u001b[0m\u001b[1;33m\u001b[0m\u001b[0m\n\u001b[1;32m----> 5\u001b[1;33m     \u001b[0my_train_pred\u001b[0m \u001b[1;33m=\u001b[0m \u001b[0mmodel_pt_gru\u001b[0m\u001b[1;33m(\u001b[0m\u001b[0mx_train_lstm\u001b[0m\u001b[1;33m)\u001b[0m\u001b[1;33m\u001b[0m\u001b[1;33m\u001b[0m\u001b[0m\n\u001b[0m\u001b[0;32m      6\u001b[0m     \u001b[0mloss\u001b[0m \u001b[1;33m=\u001b[0m \u001b[0mcriterion\u001b[0m\u001b[1;33m(\u001b[0m\u001b[0my_train_pred\u001b[0m\u001b[1;33m,\u001b[0m \u001b[0my_train_lstm\u001b[0m\u001b[1;33m)\u001b[0m\u001b[1;33m\u001b[0m\u001b[1;33m\u001b[0m\u001b[0m\n\u001b[0;32m      7\u001b[0m     \u001b[0mprint\u001b[0m\u001b[1;33m(\u001b[0m\u001b[1;34m\"Epoch \"\u001b[0m\u001b[1;33m,\u001b[0m \u001b[0mt\u001b[0m\u001b[1;33m,\u001b[0m \u001b[1;34m\"Mean Squared Error: \"\u001b[0m\u001b[1;33m,\u001b[0m \u001b[0mloss\u001b[0m\u001b[1;33m.\u001b[0m\u001b[0mitem\u001b[0m\u001b[1;33m(\u001b[0m\u001b[1;33m)\u001b[0m\u001b[1;33m)\u001b[0m\u001b[1;33m\u001b[0m\u001b[1;33m\u001b[0m\u001b[0m\n",
      "\u001b[1;31mNameError\u001b[0m: name 'x_train_lstm' is not defined"
     ]
    }
   ],
   "source": [
    "import time\n",
    "hist = np.zeros(num_epochs)\n",
    "\n",
    "for t in range(num_epochs):\n",
    "    y_train_pred = model_pt_gru(x_train_lstm)\n",
    "    loss = criterion(y_train_pred, y_train_lstm)\n",
    "    print(\"Epoch \", t, \"Mean Squared Error: \", loss.item())\n",
    "    hist[t] = loss.item()\n",
    "    optimiser.zero_grad()\n",
    "    loss.backward()\n",
    "    optimiser.step()\n",
    "    \n",
    "training_time = time.time()-start_time"
   ]
  },
  {
   "cell_type": "code",
   "execution_count": null,
   "metadata": {},
   "outputs": [],
   "source": [
    "y_pred_pt_gru = model_pt_gru(x_test_lstm)\n"
   ]
  },
  {
   "cell_type": "code",
   "execution_count": null,
   "metadata": {},
   "outputs": [],
   "source": [
    "y_pred_pt_gru.detach().numpy()"
   ]
  },
  {
   "cell_type": "code",
   "execution_count": null,
   "metadata": {},
   "outputs": [],
   "source": [
    "y_test_gru"
   ]
  },
  {
   "cell_type": "code",
   "execution_count": null,
   "metadata": {},
   "outputs": [],
   "source": [
    "import matplotlib.pyplot as plt\n",
    "plt.figure(figsize=(15, 10))\n",
    "plt.plot(y_pred_pt_gru.detach().numpy(), label ='pred')\n",
    "plt.plot(y_test_gru, label ='actual')\n",
    "plt.legend(loc='best')"
   ]
  },
  {
   "cell_type": "code",
   "execution_count": null,
   "metadata": {},
   "outputs": [],
   "source": []
  },
  {
   "cell_type": "code",
   "execution_count": null,
   "metadata": {},
   "outputs": [],
   "source": []
  },
  {
   "cell_type": "code",
   "execution_count": null,
   "metadata": {},
   "outputs": [],
   "source": []
  },
  {
   "cell_type": "code",
   "execution_count": null,
   "metadata": {},
   "outputs": [],
   "source": []
  },
  {
   "cell_type": "code",
   "execution_count": null,
   "metadata": {},
   "outputs": [],
   "source": []
  },
  {
   "cell_type": "code",
   "execution_count": null,
   "metadata": {},
   "outputs": [],
   "source": []
  },
  {
   "cell_type": "code",
   "execution_count": null,
   "metadata": {},
   "outputs": [],
   "source": []
  },
  {
   "cell_type": "code",
   "execution_count": null,
   "metadata": {},
   "outputs": [],
   "source": []
  },
  {
   "cell_type": "code",
   "execution_count": null,
   "metadata": {},
   "outputs": [],
   "source": []
  },
  {
   "cell_type": "code",
   "execution_count": null,
   "metadata": {},
   "outputs": [],
   "source": []
  },
  {
   "cell_type": "code",
   "execution_count": null,
   "metadata": {},
   "outputs": [],
   "source": []
  },
  {
   "cell_type": "code",
   "execution_count": null,
   "metadata": {},
   "outputs": [],
   "source": []
  },
  {
   "cell_type": "code",
   "execution_count": null,
   "metadata": {},
   "outputs": [],
   "source": []
  }
 ],
 "metadata": {
  "kernelspec": {
   "display_name": "Python 3",
   "language": "python",
   "name": "python3"
  },
  "language_info": {
   "codemirror_mode": {
    "name": "ipython",
    "version": 3
   },
   "file_extension": ".py",
   "mimetype": "text/x-python",
   "name": "python",
   "nbconvert_exporter": "python",
   "pygments_lexer": "ipython3",
   "version": "3.7.4"
  }
 },
 "nbformat": 4,
 "nbformat_minor": 2
}
