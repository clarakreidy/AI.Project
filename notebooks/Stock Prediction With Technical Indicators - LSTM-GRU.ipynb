{
 "cells": [
  {
   "cell_type": "code",
   "execution_count": 1,
   "metadata": {},
   "outputs": [],
   "source": [
    "import pandas as pd\n",
    "import numpy as np\n",
    "import copy\n",
    "import matplotlib.pyplot as plt\n"
   ]
  },
  {
   "cell_type": "code",
   "execution_count": 2,
   "metadata": {},
   "outputs": [],
   "source": [
    "dataset = pd.read_csv(\"../data/ada.csv\")"
   ]
  },
  {
   "cell_type": "code",
   "execution_count": 3,
   "metadata": {},
   "outputs": [
    {
     "data": {
      "text/html": [
       "<div>\n",
       "<style scoped>\n",
       "    .dataframe tbody tr th:only-of-type {\n",
       "        vertical-align: middle;\n",
       "    }\n",
       "\n",
       "    .dataframe tbody tr th {\n",
       "        vertical-align: top;\n",
       "    }\n",
       "\n",
       "    .dataframe thead th {\n",
       "        text-align: right;\n",
       "    }\n",
       "</style>\n",
       "<table border=\"1\" class=\"dataframe\">\n",
       "  <thead>\n",
       "    <tr style=\"text-align: right;\">\n",
       "      <th></th>\n",
       "      <th>date</th>\n",
       "      <th>close</th>\n",
       "      <th>high</th>\n",
       "      <th>low</th>\n",
       "      <th>open</th>\n",
       "      <th>volume</th>\n",
       "      <th>adjClose</th>\n",
       "      <th>adjHigh</th>\n",
       "      <th>adjLow</th>\n",
       "      <th>adjOpen</th>\n",
       "      <th>adjVolume</th>\n",
       "      <th>divCash</th>\n",
       "      <th>splitFactor</th>\n",
       "    </tr>\n",
       "  </thead>\n",
       "  <tbody>\n",
       "    <tr>\n",
       "      <th>0</th>\n",
       "      <td>2017-12-29</td>\n",
       "      <td>0.517300</td>\n",
       "      <td>1.080000</td>\n",
       "      <td>0.400004</td>\n",
       "      <td>1.000000</td>\n",
       "      <td>4.262042e+06</td>\n",
       "      <td>0.517300</td>\n",
       "      <td>1.080000</td>\n",
       "      <td>0.400004</td>\n",
       "      <td>1.000000</td>\n",
       "      <td>4.262042e+06</td>\n",
       "      <td>0.0</td>\n",
       "      <td>1.0</td>\n",
       "    </tr>\n",
       "    <tr>\n",
       "      <th>1</th>\n",
       "      <td>2017-12-30</td>\n",
       "      <td>0.590030</td>\n",
       "      <td>0.694139</td>\n",
       "      <td>0.420000</td>\n",
       "      <td>0.520000</td>\n",
       "      <td>2.496892e+07</td>\n",
       "      <td>0.590030</td>\n",
       "      <td>0.694139</td>\n",
       "      <td>0.420000</td>\n",
       "      <td>0.520000</td>\n",
       "      <td>2.496892e+07</td>\n",
       "      <td>0.0</td>\n",
       "      <td>1.0</td>\n",
       "    </tr>\n",
       "    <tr>\n",
       "      <th>2</th>\n",
       "      <td>2017-12-31</td>\n",
       "      <td>0.710000</td>\n",
       "      <td>0.740000</td>\n",
       "      <td>0.590020</td>\n",
       "      <td>0.590030</td>\n",
       "      <td>1.324840e+07</td>\n",
       "      <td>0.710000</td>\n",
       "      <td>0.740000</td>\n",
       "      <td>0.590020</td>\n",
       "      <td>0.590030</td>\n",
       "      <td>1.324840e+07</td>\n",
       "      <td>0.0</td>\n",
       "      <td>1.0</td>\n",
       "    </tr>\n",
       "    <tr>\n",
       "      <th>3</th>\n",
       "      <td>2018-01-01</td>\n",
       "      <td>0.702160</td>\n",
       "      <td>0.715000</td>\n",
       "      <td>0.632000</td>\n",
       "      <td>0.703400</td>\n",
       "      <td>1.380754e+07</td>\n",
       "      <td>0.702160</td>\n",
       "      <td>0.715000</td>\n",
       "      <td>0.632000</td>\n",
       "      <td>0.703400</td>\n",
       "      <td>1.380754e+07</td>\n",
       "      <td>0.0</td>\n",
       "      <td>1.0</td>\n",
       "    </tr>\n",
       "    <tr>\n",
       "      <th>4</th>\n",
       "      <td>2018-01-02</td>\n",
       "      <td>0.762000</td>\n",
       "      <td>0.800000</td>\n",
       "      <td>0.675020</td>\n",
       "      <td>0.704000</td>\n",
       "      <td>8.440669e+06</td>\n",
       "      <td>0.762000</td>\n",
       "      <td>0.800000</td>\n",
       "      <td>0.675020</td>\n",
       "      <td>0.704000</td>\n",
       "      <td>8.440669e+06</td>\n",
       "      <td>0.0</td>\n",
       "      <td>1.0</td>\n",
       "    </tr>\n",
       "    <tr>\n",
       "      <th>...</th>\n",
       "      <td>...</td>\n",
       "      <td>...</td>\n",
       "      <td>...</td>\n",
       "      <td>...</td>\n",
       "      <td>...</td>\n",
       "      <td>...</td>\n",
       "      <td>...</td>\n",
       "      <td>...</td>\n",
       "      <td>...</td>\n",
       "      <td>...</td>\n",
       "      <td>...</td>\n",
       "      <td>...</td>\n",
       "      <td>...</td>\n",
       "    </tr>\n",
       "    <tr>\n",
       "      <th>1180</th>\n",
       "      <td>2021-04-27</td>\n",
       "      <td>1.306639</td>\n",
       "      <td>1.333633</td>\n",
       "      <td>1.223582</td>\n",
       "      <td>1.237973</td>\n",
       "      <td>4.791092e+08</td>\n",
       "      <td>1.306639</td>\n",
       "      <td>1.333633</td>\n",
       "      <td>1.223582</td>\n",
       "      <td>1.237973</td>\n",
       "      <td>4.791092e+08</td>\n",
       "      <td>0.0</td>\n",
       "      <td>1.0</td>\n",
       "    </tr>\n",
       "    <tr>\n",
       "      <th>1181</th>\n",
       "      <td>2021-04-28</td>\n",
       "      <td>1.337979</td>\n",
       "      <td>1.349051</td>\n",
       "      <td>1.233085</td>\n",
       "      <td>1.306617</td>\n",
       "      <td>4.717582e+08</td>\n",
       "      <td>1.337979</td>\n",
       "      <td>1.349051</td>\n",
       "      <td>1.233085</td>\n",
       "      <td>1.306617</td>\n",
       "      <td>4.717582e+08</td>\n",
       "      <td>0.0</td>\n",
       "      <td>1.0</td>\n",
       "    </tr>\n",
       "    <tr>\n",
       "      <th>1182</th>\n",
       "      <td>2021-04-29</td>\n",
       "      <td>1.306542</td>\n",
       "      <td>1.411739</td>\n",
       "      <td>1.266448</td>\n",
       "      <td>1.337613</td>\n",
       "      <td>6.828781e+08</td>\n",
       "      <td>1.306542</td>\n",
       "      <td>1.411739</td>\n",
       "      <td>1.266448</td>\n",
       "      <td>1.337613</td>\n",
       "      <td>6.828781e+08</td>\n",
       "      <td>0.0</td>\n",
       "      <td>1.0</td>\n",
       "    </tr>\n",
       "    <tr>\n",
       "      <th>1183</th>\n",
       "      <td>2021-04-30</td>\n",
       "      <td>1.353140</td>\n",
       "      <td>1.370994</td>\n",
       "      <td>1.285897</td>\n",
       "      <td>1.306601</td>\n",
       "      <td>3.870279e+08</td>\n",
       "      <td>1.353140</td>\n",
       "      <td>1.370994</td>\n",
       "      <td>1.285897</td>\n",
       "      <td>1.306601</td>\n",
       "      <td>3.870279e+08</td>\n",
       "      <td>0.0</td>\n",
       "      <td>1.0</td>\n",
       "    </tr>\n",
       "    <tr>\n",
       "      <th>1184</th>\n",
       "      <td>2021-05-01</td>\n",
       "      <td>1.332451</td>\n",
       "      <td>1.375228</td>\n",
       "      <td>1.312470</td>\n",
       "      <td>1.353703</td>\n",
       "      <td>1.926673e+08</td>\n",
       "      <td>1.332451</td>\n",
       "      <td>1.375228</td>\n",
       "      <td>1.312470</td>\n",
       "      <td>1.353703</td>\n",
       "      <td>1.926673e+08</td>\n",
       "      <td>0.0</td>\n",
       "      <td>1.0</td>\n",
       "    </tr>\n",
       "  </tbody>\n",
       "</table>\n",
       "<p>1185 rows × 13 columns</p>\n",
       "</div>"
      ],
      "text/plain": [
       "            date     close      high       low      open        volume  \\\n",
       "0     2017-12-29  0.517300  1.080000  0.400004  1.000000  4.262042e+06   \n",
       "1     2017-12-30  0.590030  0.694139  0.420000  0.520000  2.496892e+07   \n",
       "2     2017-12-31  0.710000  0.740000  0.590020  0.590030  1.324840e+07   \n",
       "3     2018-01-01  0.702160  0.715000  0.632000  0.703400  1.380754e+07   \n",
       "4     2018-01-02  0.762000  0.800000  0.675020  0.704000  8.440669e+06   \n",
       "...          ...       ...       ...       ...       ...           ...   \n",
       "1180  2021-04-27  1.306639  1.333633  1.223582  1.237973  4.791092e+08   \n",
       "1181  2021-04-28  1.337979  1.349051  1.233085  1.306617  4.717582e+08   \n",
       "1182  2021-04-29  1.306542  1.411739  1.266448  1.337613  6.828781e+08   \n",
       "1183  2021-04-30  1.353140  1.370994  1.285897  1.306601  3.870279e+08   \n",
       "1184  2021-05-01  1.332451  1.375228  1.312470  1.353703  1.926673e+08   \n",
       "\n",
       "      adjClose   adjHigh    adjLow   adjOpen     adjVolume  divCash  \\\n",
       "0     0.517300  1.080000  0.400004  1.000000  4.262042e+06      0.0   \n",
       "1     0.590030  0.694139  0.420000  0.520000  2.496892e+07      0.0   \n",
       "2     0.710000  0.740000  0.590020  0.590030  1.324840e+07      0.0   \n",
       "3     0.702160  0.715000  0.632000  0.703400  1.380754e+07      0.0   \n",
       "4     0.762000  0.800000  0.675020  0.704000  8.440669e+06      0.0   \n",
       "...        ...       ...       ...       ...           ...      ...   \n",
       "1180  1.306639  1.333633  1.223582  1.237973  4.791092e+08      0.0   \n",
       "1181  1.337979  1.349051  1.233085  1.306617  4.717582e+08      0.0   \n",
       "1182  1.306542  1.411739  1.266448  1.337613  6.828781e+08      0.0   \n",
       "1183  1.353140  1.370994  1.285897  1.306601  3.870279e+08      0.0   \n",
       "1184  1.332451  1.375228  1.312470  1.353703  1.926673e+08      0.0   \n",
       "\n",
       "      splitFactor  \n",
       "0             1.0  \n",
       "1             1.0  \n",
       "2             1.0  \n",
       "3             1.0  \n",
       "4             1.0  \n",
       "...           ...  \n",
       "1180          1.0  \n",
       "1181          1.0  \n",
       "1182          1.0  \n",
       "1183          1.0  \n",
       "1184          1.0  \n",
       "\n",
       "[1185 rows x 13 columns]"
      ]
     },
     "execution_count": 3,
     "metadata": {},
     "output_type": "execute_result"
    }
   ],
   "source": [
    "dataset"
   ]
  },
  {
   "cell_type": "code",
   "execution_count": 4,
   "metadata": {},
   "outputs": [],
   "source": [
    "data = copy.deepcopy(dataset)\n",
    "data = data.drop(columns=['date', 'volume', 'adjClose', 'adjHigh','adjLow','adjOpen', 'adjVolume', 'divCash', 'splitFactor'], axis=1)\n"
   ]
  },
  {
   "cell_type": "code",
   "execution_count": 5,
   "metadata": {},
   "outputs": [
    {
     "data": {
      "text/html": [
       "<div>\n",
       "<style scoped>\n",
       "    .dataframe tbody tr th:only-of-type {\n",
       "        vertical-align: middle;\n",
       "    }\n",
       "\n",
       "    .dataframe tbody tr th {\n",
       "        vertical-align: top;\n",
       "    }\n",
       "\n",
       "    .dataframe thead th {\n",
       "        text-align: right;\n",
       "    }\n",
       "</style>\n",
       "<table border=\"1\" class=\"dataframe\">\n",
       "  <thead>\n",
       "    <tr style=\"text-align: right;\">\n",
       "      <th></th>\n",
       "      <th>close</th>\n",
       "      <th>high</th>\n",
       "      <th>low</th>\n",
       "      <th>open</th>\n",
       "    </tr>\n",
       "  </thead>\n",
       "  <tbody>\n",
       "    <tr>\n",
       "      <th>0</th>\n",
       "      <td>0.517300</td>\n",
       "      <td>1.080000</td>\n",
       "      <td>0.400004</td>\n",
       "      <td>1.000000</td>\n",
       "    </tr>\n",
       "    <tr>\n",
       "      <th>1</th>\n",
       "      <td>0.590030</td>\n",
       "      <td>0.694139</td>\n",
       "      <td>0.420000</td>\n",
       "      <td>0.520000</td>\n",
       "    </tr>\n",
       "    <tr>\n",
       "      <th>2</th>\n",
       "      <td>0.710000</td>\n",
       "      <td>0.740000</td>\n",
       "      <td>0.590020</td>\n",
       "      <td>0.590030</td>\n",
       "    </tr>\n",
       "    <tr>\n",
       "      <th>3</th>\n",
       "      <td>0.702160</td>\n",
       "      <td>0.715000</td>\n",
       "      <td>0.632000</td>\n",
       "      <td>0.703400</td>\n",
       "    </tr>\n",
       "    <tr>\n",
       "      <th>4</th>\n",
       "      <td>0.762000</td>\n",
       "      <td>0.800000</td>\n",
       "      <td>0.675020</td>\n",
       "      <td>0.704000</td>\n",
       "    </tr>\n",
       "    <tr>\n",
       "      <th>...</th>\n",
       "      <td>...</td>\n",
       "      <td>...</td>\n",
       "      <td>...</td>\n",
       "      <td>...</td>\n",
       "    </tr>\n",
       "    <tr>\n",
       "      <th>1180</th>\n",
       "      <td>1.306639</td>\n",
       "      <td>1.333633</td>\n",
       "      <td>1.223582</td>\n",
       "      <td>1.237973</td>\n",
       "    </tr>\n",
       "    <tr>\n",
       "      <th>1181</th>\n",
       "      <td>1.337979</td>\n",
       "      <td>1.349051</td>\n",
       "      <td>1.233085</td>\n",
       "      <td>1.306617</td>\n",
       "    </tr>\n",
       "    <tr>\n",
       "      <th>1182</th>\n",
       "      <td>1.306542</td>\n",
       "      <td>1.411739</td>\n",
       "      <td>1.266448</td>\n",
       "      <td>1.337613</td>\n",
       "    </tr>\n",
       "    <tr>\n",
       "      <th>1183</th>\n",
       "      <td>1.353140</td>\n",
       "      <td>1.370994</td>\n",
       "      <td>1.285897</td>\n",
       "      <td>1.306601</td>\n",
       "    </tr>\n",
       "    <tr>\n",
       "      <th>1184</th>\n",
       "      <td>1.332451</td>\n",
       "      <td>1.375228</td>\n",
       "      <td>1.312470</td>\n",
       "      <td>1.353703</td>\n",
       "    </tr>\n",
       "  </tbody>\n",
       "</table>\n",
       "<p>1185 rows × 4 columns</p>\n",
       "</div>"
      ],
      "text/plain": [
       "         close      high       low      open\n",
       "0     0.517300  1.080000  0.400004  1.000000\n",
       "1     0.590030  0.694139  0.420000  0.520000\n",
       "2     0.710000  0.740000  0.590020  0.590030\n",
       "3     0.702160  0.715000  0.632000  0.703400\n",
       "4     0.762000  0.800000  0.675020  0.704000\n",
       "...        ...       ...       ...       ...\n",
       "1180  1.306639  1.333633  1.223582  1.237973\n",
       "1181  1.337979  1.349051  1.233085  1.306617\n",
       "1182  1.306542  1.411739  1.266448  1.337613\n",
       "1183  1.353140  1.370994  1.285897  1.306601\n",
       "1184  1.332451  1.375228  1.312470  1.353703\n",
       "\n",
       "[1185 rows x 4 columns]"
      ]
     },
     "execution_count": 5,
     "metadata": {},
     "output_type": "execute_result"
    }
   ],
   "source": [
    "data"
   ]
  },
  {
   "cell_type": "code",
   "execution_count": 6,
   "metadata": {},
   "outputs": [
    {
     "name": "stdout",
     "output_type": "stream",
     "text": [
      "No empty values\n"
     ]
    }
   ],
   "source": [
    "if data.isnull().sum().sum() >0:\n",
    "    data = data.fillna(method='pad') # filling null values with their previous\n",
    "    print ('filled empty values')\n",
    "else:\n",
    "    print ('No empty values')"
   ]
  },
  {
   "cell_type": "markdown",
   "metadata": {},
   "source": [
    "# Feature Engineering\n"
   ]
  },
  {
   "cell_type": "code",
   "execution_count": 7,
   "metadata": {},
   "outputs": [],
   "source": [
    "tek_ind_1 = copy.deepcopy(data)\n",
    "tek_ind_2 = copy.deepcopy(data)"
   ]
  },
  {
   "cell_type": "code",
   "execution_count": 8,
   "metadata": {},
   "outputs": [
    {
     "data": {
      "text/html": [
       "<div>\n",
       "<style scoped>\n",
       "    .dataframe tbody tr th:only-of-type {\n",
       "        vertical-align: middle;\n",
       "    }\n",
       "\n",
       "    .dataframe tbody tr th {\n",
       "        vertical-align: top;\n",
       "    }\n",
       "\n",
       "    .dataframe thead th {\n",
       "        text-align: right;\n",
       "    }\n",
       "</style>\n",
       "<table border=\"1\" class=\"dataframe\">\n",
       "  <thead>\n",
       "    <tr style=\"text-align: right;\">\n",
       "      <th></th>\n",
       "      <th>close</th>\n",
       "      <th>high</th>\n",
       "      <th>low</th>\n",
       "      <th>open</th>\n",
       "    </tr>\n",
       "  </thead>\n",
       "  <tbody>\n",
       "    <tr>\n",
       "      <th>0</th>\n",
       "      <td>0.517300</td>\n",
       "      <td>1.080000</td>\n",
       "      <td>0.400004</td>\n",
       "      <td>1.000000</td>\n",
       "    </tr>\n",
       "    <tr>\n",
       "      <th>1</th>\n",
       "      <td>0.590030</td>\n",
       "      <td>0.694139</td>\n",
       "      <td>0.420000</td>\n",
       "      <td>0.520000</td>\n",
       "    </tr>\n",
       "    <tr>\n",
       "      <th>2</th>\n",
       "      <td>0.710000</td>\n",
       "      <td>0.740000</td>\n",
       "      <td>0.590020</td>\n",
       "      <td>0.590030</td>\n",
       "    </tr>\n",
       "    <tr>\n",
       "      <th>3</th>\n",
       "      <td>0.702160</td>\n",
       "      <td>0.715000</td>\n",
       "      <td>0.632000</td>\n",
       "      <td>0.703400</td>\n",
       "    </tr>\n",
       "    <tr>\n",
       "      <th>4</th>\n",
       "      <td>0.762000</td>\n",
       "      <td>0.800000</td>\n",
       "      <td>0.675020</td>\n",
       "      <td>0.704000</td>\n",
       "    </tr>\n",
       "    <tr>\n",
       "      <th>...</th>\n",
       "      <td>...</td>\n",
       "      <td>...</td>\n",
       "      <td>...</td>\n",
       "      <td>...</td>\n",
       "    </tr>\n",
       "    <tr>\n",
       "      <th>1180</th>\n",
       "      <td>1.306639</td>\n",
       "      <td>1.333633</td>\n",
       "      <td>1.223582</td>\n",
       "      <td>1.237973</td>\n",
       "    </tr>\n",
       "    <tr>\n",
       "      <th>1181</th>\n",
       "      <td>1.337979</td>\n",
       "      <td>1.349051</td>\n",
       "      <td>1.233085</td>\n",
       "      <td>1.306617</td>\n",
       "    </tr>\n",
       "    <tr>\n",
       "      <th>1182</th>\n",
       "      <td>1.306542</td>\n",
       "      <td>1.411739</td>\n",
       "      <td>1.266448</td>\n",
       "      <td>1.337613</td>\n",
       "    </tr>\n",
       "    <tr>\n",
       "      <th>1183</th>\n",
       "      <td>1.353140</td>\n",
       "      <td>1.370994</td>\n",
       "      <td>1.285897</td>\n",
       "      <td>1.306601</td>\n",
       "    </tr>\n",
       "    <tr>\n",
       "      <th>1184</th>\n",
       "      <td>1.332451</td>\n",
       "      <td>1.375228</td>\n",
       "      <td>1.312470</td>\n",
       "      <td>1.353703</td>\n",
       "    </tr>\n",
       "  </tbody>\n",
       "</table>\n",
       "<p>1185 rows × 4 columns</p>\n",
       "</div>"
      ],
      "text/plain": [
       "         close      high       low      open\n",
       "0     0.517300  1.080000  0.400004  1.000000\n",
       "1     0.590030  0.694139  0.420000  0.520000\n",
       "2     0.710000  0.740000  0.590020  0.590030\n",
       "3     0.702160  0.715000  0.632000  0.703400\n",
       "4     0.762000  0.800000  0.675020  0.704000\n",
       "...        ...       ...       ...       ...\n",
       "1180  1.306639  1.333633  1.223582  1.237973\n",
       "1181  1.337979  1.349051  1.233085  1.306617\n",
       "1182  1.306542  1.411739  1.266448  1.337613\n",
       "1183  1.353140  1.370994  1.285897  1.306601\n",
       "1184  1.332451  1.375228  1.312470  1.353703\n",
       "\n",
       "[1185 rows x 4 columns]"
      ]
     },
     "execution_count": 8,
     "metadata": {},
     "output_type": "execute_result"
    }
   ],
   "source": [
    "tek_ind_1"
   ]
  },
  {
   "cell_type": "code",
   "execution_count": 13,
   "metadata": {},
   "outputs": [],
   "source": [
    "    \n",
    "def create_technical_indicators_set_1(data):\n",
    "\n",
    "    data = _get_daily_return(data)\n",
    "    data = _get_price_gap(data)\n",
    "    data = _get_moving_average(data)\n",
    "    data = _get_rsi(data)\n",
    "    data = _get_R_precentage(data)\n",
    "    data = _get_bollinger_bands(data)\n",
    "    data = _get_exponential_ma(data)\n",
    "    data = _get_momentum(data)\n",
    "    return data\n",
    "\n",
    "\n",
    "def _get_daily_return(data):\n",
    "    # Percentage change between the current and a prior element\n",
    "    data['daily_return'] = data.close.pct_change().fillna(0)\n",
    "    \n",
    "    # Cummulative Product (+1 is used not so we can ignore the 0s in the first couple rows)\n",
    "    data['cum_daily_return'] = (1 + data['daily_return']).cumprod() \n",
    "    return data\n",
    "\n",
    "def _get_price_gap(data):\n",
    "    data['H-L'] = data.high - data.low\n",
    "    data['C-O'] = data.close - data.open\n",
    "    return data\n",
    "\n",
    "def _get_moving_average(data):\n",
    "    data['10day Ma'] = data.close.shift(1).rolling(window = 10).mean().fillna(0)\n",
    "    data['50day Ma'] = data.close.shift(1).rolling(window = 50).mean().fillna(0)\n",
    "    data['200day Ma'] = data.close.shift(1).rolling(window = 200).mean().fillna(0)\n",
    "    \n",
    "    data['ma7'] = data.close.rolling(window=7).mean().fillna(0)\n",
    "    data['ma21'] = data.close.rolling(window=21).mean().fillna(0)\n",
    "    \n",
    "    # creating MA convergeance and divergence\n",
    "    data['ema_26'] = data.close.ewm(span=26).mean().fillna(0)\n",
    "    data['ema_12'] = data.close.ewm(span=12).mean().fillna(0)\n",
    "    data['macd'] = (data['ema_12'] - data['ema_26'])\n",
    "    \n",
    "    return data\n",
    "    \n",
    "\n",
    "def _get_rsi(data):\n",
    "    import talib\n",
    "    data['rsi'] = talib.RSI(data.close.values, timeperiod = 14)\n",
    "    return data\n",
    "\n",
    "def _get_R_precentage(data):\n",
    "    import talib\n",
    "    data['R%'] = talib.WILLR(data.high.values, data.low.values, data.close.values,14)\n",
    "    return data\n",
    "\n",
    "def _get_bollinger_bands(data, window = 21,no_of_std =2):\n",
    "    #calculate rolling mean and standard deviation using number of days set above\n",
    "    rolling_mean = data.close.rolling(window).mean()\n",
    "    rolling_std = data.close.rolling(window).std()\n",
    "    #Create upper and lower Bollinger bands\n",
    "    data['bb_high'] =(rolling_mean + (rolling_std * no_of_std)).fillna(0)\n",
    "    data['bb_low'] =(rolling_mean - (rolling_std * no_of_std)).fillna(0)\n",
    "    return data\n",
    "\n",
    "def _get_exponential_ma(data):\n",
    "    data['ema'] = data.close.ewm(com=0.5).mean()\n",
    "    return data\n",
    "def _get_momentum(data):\n",
    "    data['momentum'] = data.close - 1\n",
    "    return data"
   ]
  },
  {
   "cell_type": "code",
   "execution_count": 14,
   "metadata": {},
   "outputs": [],
   "source": [
    "tek_ind_1 = create_technical_indicators_set_1(tek_ind_1)"
   ]
  },
  {
   "cell_type": "code",
   "execution_count": null,
   "metadata": {},
   "outputs": [],
   "source": []
  },
  {
   "cell_type": "code",
   "execution_count": null,
   "metadata": {},
   "outputs": [],
   "source": []
  },
  {
   "cell_type": "code",
   "execution_count": 16,
   "metadata": {},
   "outputs": [
    {
     "data": {
      "text/plain": [
       "<matplotlib.legend.Legend at 0x27e81cb4888>"
      ]
     },
     "execution_count": 16,
     "metadata": {},
     "output_type": "execute_result"
    },
    {
     "data": {
      "image/png": "[encoded data removed]",
      "text/plain": [
       "<Figure size 1080x720 with 1 Axes>"
      ]
     },
     "metadata": {
      "needs_background": "light"
     },
     "output_type": "display_data"
    }
   ],
   "source": [
    "plt.figure(figsize=(15, 10))\n",
    "plt.plot(tek_ind_1['close'], label ='Actual')\n",
    "plt.plot(tek_ind_1['bb_high'], label ='BBHigh')\n",
    "plt.plot(tek_ind_1['bb_low'], label ='BBLow')\n",
    "plt.legend(loc='best')"
   ]
  },
  {
   "cell_type": "code",
   "execution_count": 17,
   "metadata": {},
   "outputs": [
    {
     "data": {
      "text/plain": [
       "<matplotlib.legend.Legend at 0x27e82122bc8>"
      ]
     },
     "execution_count": 17,
     "metadata": {},
     "output_type": "execute_result"
    },
    {
     "data": {
      "image/png": "[encoded data removed]",
      "text/plain": [
       "<Figure size 1080x720 with 1 Axes>"
      ]
     },
     "metadata": {
      "needs_background": "light"
     },
     "output_type": "display_data"
    }
   ],
   "source": [
    "plt.figure(figsize=(15, 10))\n",
    "plt.plot(tek_ind_1['10day Ma'], label ='10day Ma')\n",
    "plt.plot(tek_ind_1['50day Ma'], label ='50day Ma')\n",
    "plt.plot(tek_ind_1['200day Ma'], label ='200day Ma')\n",
    "plt.legend(loc='best')"
   ]
  },
  {
   "cell_type": "code",
   "execution_count": null,
   "metadata": {},
   "outputs": [],
   "source": []
  },
  {
   "cell_type": "code",
   "execution_count": null,
   "metadata": {},
   "outputs": [],
   "source": [
    "def prepare_data(data, lookback = 20):\n",
    "    data = _check_null_values(data)\n",
    "    values = pd.DataFrame(data.values.astype('float32'))\n",
    "    values = _scale_data(values)\n",
    "    values = _create_time_series(values)\n",
    "    return values\n",
    "    \n",
    "\n",
    "def _check_null_values(data):\n",
    "    if data.isnull().sum().sum() >0 :\n",
    "        data = data.fillna(0) # filling null values with their previous\n",
    "        print ('filled empty values')\n",
    "    else:\n",
    "        print ('No empty values')\n",
    "\n",
    "def _scale_data(data):\n",
    "    from sklearn.preprocessing import MinMaxScaler\n",
    "    scaler = MinMaxScaler()\n",
    "    return scaler.fit_transform(data)\n",
    "\n",
    "print(X.shape)\n",
    "def _create_time_series(data, look_back=60, index_of_column_to_predict=0):\n",
    "    temp = data.copy()\n",
    "    temp[\"id\"] = range(1, len(temp) +1)\n",
    "    temp = temp.iloc[:look_back, :] # get all values before the lookback\n",
    "    print (temp.head(1))\n",
    "    print(temp.shape)\n",
    "    temp.set_index('id', inplace = True)\n",
    "    pred_value = data.copy()\n",
    "    pred_value = pred_value.iloc[look_back:, index_of_column_to_predict]  # get all values before the lookback\n",
    "    pred_value.columns = [\"Pred\"]\n",
    "\n",
    "    pred_value = pd.DataFrame(pred_value)\n",
    "    print(pred_value.head(1))\n",
    "    print(pred_value.shape)\n",
    "    pred_value[\"id\"] =range(1, len(pred_value) +1 )\n",
    "    pred_value.set_index('id', inplace = True)\n",
    "    final_df =pd.concat([temp, pred_value], axis=1)\n",
    "    return final_df\n",
    "\n",
    "\n",
    "def _split_data(data_raw, lookback, testSize = 0.1):\n",
    "#     data_raw = stock.to_numpy() # convert to numpy array\n",
    "    data = []\n",
    "    \n",
    "    # create all possible sequences of length seq_len\n",
    "    for index in range(len(data_raw) - lookback): \n",
    "        data.append(data_raw[index: index + lookback])\n",
    "#     print (data[:4])\n",
    "    data = np.array(data);\n",
    "    test_set_size = int(np.round(testSize*data.shape[0]));\n",
    "    train_set_size = data.shape[0] - (test_set_size);\n",
    "    \n",
    "    x_train = data[:train_set_size,:-1,:]\n",
    "    y_train = data[:train_set_size,-1,-1]\n",
    "    \n",
    "    x_test = data[train_set_size:,:-1,:]\n",
    "    y_test = data[train_set_size:,-1,-1]\n",
    "    \n",
    "    return [x_train, y_train, x_test, y_test]"
   ]
  },
  {
   "cell_type": "code",
   "execution_count": 22,
   "metadata": {},
   "outputs": [],
   "source": []
  },
  {
   "cell_type": "code",
   "execution_count": 25,
   "metadata": {},
   "outputs": [],
   "source": [
    "data = prepare_data(tek_ind_1)\n",
    "lookback = 20 # choose sequence length\n",
    "x_train, y_train, x_test, y_test = split_data(X, lookback)"
   ]
  },
  {
   "cell_type": "markdown",
   "metadata": {},
   "source": [
    "# TensorFlow"
   ]
  },
  {
   "cell_type": "markdown",
   "metadata": {},
   "source": [
    "## LSTM"
   ]
  },
  {
   "cell_type": "code",
   "execution_count": 26,
   "metadata": {},
   "outputs": [
    {
     "name": "stdout",
     "output_type": "stream",
     "text": [
      "Model: \"sequential\"\n",
      "_________________________________________________________________\n",
      "Layer (type)                 Output Shape              Param #   \n",
      "=================================================================\n",
      "lstm (LSTM)                  (None, 19, 75)            29400     \n",
      "_________________________________________________________________\n",
      "lstm_1 (LSTM)                (None, 19, 30)            12720     \n",
      "_________________________________________________________________\n",
      "lstm_2 (LSTM)                (None, 19, 30)            7320      \n",
      "_________________________________________________________________\n",
      "dense (Dense)                (None, 19, 1)             31        \n",
      "=================================================================\n",
      "Total params: 49,471\n",
      "Trainable params: 49,471\n",
      "Non-trainable params: 0\n",
      "_________________________________________________________________\n",
      "Epoch 1/100\n",
      "33/33 [==============================] - 2s 52ms/step - loss: 0.0522 - val_loss: 0.4314\n",
      "Epoch 2/100\n",
      "33/33 [==============================] - 1s 20ms/step - loss: 0.0270 - val_loss: 0.4991\n",
      "Epoch 3/100\n",
      "33/33 [==============================] - 1s 20ms/step - loss: 0.0342 - val_loss: 0.4706\n",
      "Epoch 4/100\n",
      "33/33 [==============================] - 1s 20ms/step - loss: 0.0275 - val_loss: 0.4535\n",
      "Epoch 5/100\n",
      "33/33 [==============================] - 1s 20ms/step - loss: 0.0280 - val_loss: 0.4327\n",
      "Epoch 6/100\n",
      "33/33 [==============================] - 1s 20ms/step - loss: 0.0303 - val_loss: 0.5138\n",
      "Epoch 7/100\n",
      "33/33 [==============================] - 1s 20ms/step - loss: 0.0328 - val_loss: 0.4497\n",
      "Epoch 8/100\n",
      "33/33 [==============================] - 1s 20ms/step - loss: 0.0332 - val_loss: 0.4001\n",
      "Epoch 9/100\n",
      "33/33 [==============================] - 1s 19ms/step - loss: 0.0300 - val_loss: 0.4378\n",
      "Epoch 10/100\n",
      "33/33 [==============================] - 1s 20ms/step - loss: 0.0224 - val_loss: 0.3044\n",
      "Epoch 11/100\n",
      "33/33 [==============================] - 1s 19ms/step - loss: 0.0283 - val_loss: 0.5335\n",
      "Epoch 12/100\n",
      "33/33 [==============================] - 1s 19ms/step - loss: 0.0251 - val_loss: 0.3943\n",
      "Epoch 13/100\n",
      "33/33 [==============================] - 1s 19ms/step - loss: 0.0229 - val_loss: 0.5077\n",
      "Epoch 14/100\n",
      "33/33 [==============================] - 1s 19ms/step - loss: 0.0221 - val_loss: 0.3999\n",
      "Epoch 15/100\n",
      "33/33 [==============================] - 1s 19ms/step - loss: 0.0205 - val_loss: 0.4931\n",
      "Epoch 16/100\n",
      "33/33 [==============================] - 1s 19ms/step - loss: 0.0197 - val_loss: 0.4052\n",
      "Epoch 17/100\n",
      "33/33 [==============================] - 1s 19ms/step - loss: 0.0197 - val_loss: 0.4892\n",
      "Epoch 18/100\n",
      "33/33 [==============================] - 1s 19ms/step - loss: 0.0186 - val_loss: 0.4042\n",
      "Epoch 19/100\n",
      "33/33 [==============================] - 1s 19ms/step - loss: 0.0186 - val_loss: 0.4820\n",
      "Epoch 20/100\n",
      "33/33 [==============================] - 1s 19ms/step - loss: 0.0177 - val_loss: 0.4046\n",
      "Epoch 21/100\n",
      "33/33 [==============================] - 1s 19ms/step - loss: 0.0179 - val_loss: 0.4754\n",
      "Epoch 22/100\n",
      "33/33 [==============================] - 1s 19ms/step - loss: 0.0170 - val_loss: 0.4017\n",
      "Epoch 23/100\n",
      "33/33 [==============================] - 1s 19ms/step - loss: 0.0176 - val_loss: 0.4719\n",
      "Epoch 24/100\n",
      "33/33 [==============================] - 1s 19ms/step - loss: 0.0166 - val_loss: 0.3973\n",
      "Epoch 25/100\n",
      "33/33 [==============================] - 1s 19ms/step - loss: 0.0171 - val_loss: 0.4670\n",
      "Epoch 26/100\n",
      "33/33 [==============================] - ETA: 0s - loss: 0.015 - 1s 19ms/step - loss: 0.0161 - val_loss: 0.3956\n",
      "Epoch 27/100\n",
      "33/33 [==============================] - 1s 19ms/step - loss: 0.0166 - val_loss: 0.4625\n",
      "Epoch 28/100\n",
      "33/33 [==============================] - 1s 19ms/step - loss: 0.0157 - val_loss: 0.3935\n",
      "Epoch 29/100\n",
      "33/33 [==============================] - 1s 19ms/step - loss: 0.0162 - val_loss: 0.4581\n",
      "Epoch 30/100\n",
      "33/33 [==============================] - 1s 19ms/step - loss: 0.0153 - val_loss: 0.3906\n",
      "Epoch 31/100\n",
      "33/33 [==============================] - 1s 19ms/step - loss: 0.0158 - val_loss: 0.4529\n",
      "Epoch 32/100\n",
      "33/33 [==============================] - 1s 19ms/step - loss: 0.0149 - val_loss: 0.3887\n",
      "Epoch 33/100\n",
      "33/33 [==============================] - 1s 19ms/step - loss: 0.0155 - val_loss: 0.4486\n",
      "Epoch 34/100\n",
      "33/33 [==============================] - 1s 19ms/step - loss: 0.0146 - val_loss: 0.3864\n",
      "Epoch 35/100\n",
      "33/33 [==============================] - 1s 19ms/step - loss: 0.0152 - val_loss: 0.4437\n",
      "Epoch 36/100\n",
      "33/33 [==============================] - 1s 19ms/step - loss: 0.0143 - val_loss: 0.3842\n",
      "Epoch 37/100\n",
      "33/33 [==============================] - 1s 19ms/step - loss: 0.0150 - val_loss: 0.4402\n",
      "Epoch 38/100\n",
      "33/33 [==============================] - 1s 19ms/step - loss: 0.0140 - val_loss: 0.3811\n",
      "Epoch 39/100\n",
      "33/33 [==============================] - 1s 19ms/step - loss: 0.0148 - val_loss: 0.4379\n",
      "Epoch 40/100\n",
      "33/33 [==============================] - 1s 19ms/step - loss: 0.0138 - val_loss: 0.3790\n",
      "Epoch 41/100\n",
      "33/33 [==============================] - 1s 19ms/step - loss: 0.0142 - val_loss: 0.4358\n",
      "Epoch 42/100\n",
      "33/33 [==============================] - 1s 18ms/step - loss: 0.0137 - val_loss: 0.3832\n",
      "Epoch 43/100\n",
      "33/33 [==============================] - 1s 19ms/step - loss: 0.0131 - val_loss: 0.4247\n",
      "Epoch 44/100\n",
      "33/33 [==============================] - 1s 19ms/step - loss: 0.0136 - val_loss: 0.3888\n",
      "Epoch 45/100\n",
      "33/33 [==============================] - 1s 19ms/step - loss: 0.0133 - val_loss: 0.4207\n",
      "Epoch 46/100\n",
      "33/33 [==============================] - 1s 19ms/step - loss: 0.0136 - val_loss: 0.3793\n",
      "Epoch 47/100\n",
      "33/33 [==============================] - 1s 18ms/step - loss: 0.0131 - val_loss: 0.4234\n",
      "Epoch 48/100\n",
      "33/33 [==============================] - 1s 18ms/step - loss: 0.0139 - val_loss: 0.4026\n",
      "Epoch 49/100\n",
      "33/33 [==============================] - 1s 18ms/step - loss: 0.0125 - val_loss: 0.3960\n",
      "Epoch 50/100\n",
      "33/33 [==============================] - 1s 18ms/step - loss: 0.0126 - val_loss: 0.3937\n",
      "Epoch 51/100\n",
      "33/33 [==============================] - 1s 19ms/step - loss: 0.0125 - val_loss: 0.4011\n",
      "Epoch 52/100\n",
      "33/33 [==============================] - 1s 18ms/step - loss: 0.0123 - val_loss: 0.3873\n",
      "Epoch 53/100\n",
      "33/33 [==============================] - 1s 18ms/step - loss: 0.0122 - val_loss: 0.4021\n",
      "Epoch 54/100\n",
      "33/33 [==============================] - 1s 19ms/step - loss: 0.0118 - val_loss: 0.3930\n",
      "Epoch 55/100\n",
      "33/33 [==============================] - 1s 18ms/step - loss: 0.0116 - val_loss: 0.3957\n",
      "Epoch 56/100\n",
      "33/33 [==============================] - 1s 18ms/step - loss: 0.0113 - val_loss: 0.3916\n",
      "Epoch 57/100\n",
      "33/33 [==============================] - 1s 18ms/step - loss: 0.0113 - val_loss: 0.4066\n",
      "Epoch 58/100\n",
      "33/33 [==============================] - 1s 18ms/step - loss: 0.0114 - val_loss: 0.3761\n",
      "Epoch 59/100\n",
      "33/33 [==============================] - 1s 18ms/step - loss: 0.0116 - val_loss: 0.4137\n",
      "Epoch 60/100\n",
      "33/33 [==============================] - 1s 18ms/step - loss: 0.0114 - val_loss: 0.3845\n",
      "Epoch 61/100\n",
      "33/33 [==============================] - 1s 18ms/step - loss: 0.0113 - val_loss: 0.4082\n",
      "Epoch 62/100\n",
      "33/33 [==============================] - 1s 18ms/step - loss: 0.0112 - val_loss: 0.3800\n",
      "Epoch 63/100\n",
      "33/33 [==============================] - 1s 18ms/step - loss: 0.0114 - val_loss: 0.4120\n",
      "Epoch 64/100\n",
      "33/33 [==============================] - 1s 18ms/step - loss: 0.0112 - val_loss: 0.3854\n",
      "Epoch 65/100\n",
      "33/33 [==============================] - 1s 18ms/step - loss: 0.0111 - val_loss: 0.4072\n",
      "Epoch 66/100\n",
      "33/33 [==============================] - 1s 19ms/step - loss: 0.0108 - val_loss: 0.3813\n",
      "Epoch 67/100\n",
      "33/33 [==============================] - 1s 18ms/step - loss: 0.0110 - val_loss: 0.4136\n",
      "Epoch 68/100\n",
      "33/33 [==============================] - 1s 18ms/step - loss: 0.0110 - val_loss: 0.3840\n",
      "Epoch 69/100\n",
      "33/33 [==============================] - 1s 19ms/step - loss: 0.0109 - val_loss: 0.4092\n",
      "Epoch 70/100\n",
      "33/33 [==============================] - 1s 18ms/step - loss: 0.0107 - val_loss: 0.3841\n",
      "Epoch 71/100\n",
      "33/33 [==============================] - 1s 18ms/step - loss: 0.0107 - val_loss: 0.4114\n",
      "Epoch 72/100\n",
      "33/33 [==============================] - 1s 18ms/step - loss: 0.0107 - val_loss: 0.3828\n",
      "Epoch 73/100\n"
     ]
    },
    {
     "name": "stdout",
     "output_type": "stream",
     "text": [
      "33/33 [==============================] - 1s 18ms/step - loss: 0.0107 - val_loss: 0.4109\n",
      "Epoch 74/100\n",
      "33/33 [==============================] - 1s 18ms/step - loss: 0.0105 - val_loss: 0.3852\n",
      "Epoch 75/100\n",
      "33/33 [==============================] - 1s 18ms/step - loss: 0.0105 - val_loss: 0.4109\n",
      "Epoch 76/100\n",
      "33/33 [==============================] - 1s 19ms/step - loss: 0.0104 - val_loss: 0.3832\n",
      "Epoch 77/100\n",
      "33/33 [==============================] - 1s 19ms/step - loss: 0.0105 - val_loss: 0.4126\n",
      "Epoch 78/100\n",
      "33/33 [==============================] - 1s 19ms/step - loss: 0.0104 - val_loss: 0.3852\n",
      "Epoch 79/100\n",
      "33/33 [==============================] - 1s 19ms/step - loss: 0.0103 - val_loss: 0.4121\n",
      "Epoch 80/100\n",
      "33/33 [==============================] - 1s 18ms/step - loss: 0.0103 - val_loss: 0.3853\n",
      "Epoch 81/100\n",
      "33/33 [==============================] - 1s 20ms/step - loss: 0.0103 - val_loss: 0.4122\n",
      "Epoch 82/100\n",
      "33/33 [==============================] - 1s 18ms/step - loss: 0.0102 - val_loss: 0.3870\n",
      "Epoch 83/100\n",
      "33/33 [==============================] - 1s 18ms/step - loss: 0.0101 - val_loss: 0.4112\n",
      "Epoch 84/100\n",
      "33/33 [==============================] - 1s 18ms/step - loss: 0.0101 - val_loss: 0.3879\n",
      "Epoch 85/100\n",
      "33/33 [==============================] - 1s 18ms/step - loss: 0.0100 - val_loss: 0.4107\n",
      "Epoch 86/100\n",
      "33/33 [==============================] - 1s 18ms/step - loss: 0.0099 - val_loss: 0.3922\n",
      "Epoch 87/100\n",
      "33/33 [==============================] - 1s 18ms/step - loss: 0.0098 - val_loss: 0.4064\n",
      "Epoch 88/100\n",
      "33/33 [==============================] - 1s 18ms/step - loss: 0.0099 - val_loss: 0.4038\n",
      "Epoch 89/100\n",
      "33/33 [==============================] - 1s 18ms/step - loss: 0.0101 - val_loss: 0.3934\n",
      "Epoch 90/100\n",
      "33/33 [==============================] - 1s 17ms/step - loss: 0.0103 - val_loss: 0.4214\n",
      "Epoch 91/100\n",
      "33/33 [==============================] - 1s 18ms/step - loss: 0.0105 - val_loss: 0.3898\n",
      "Epoch 92/100\n",
      "33/33 [==============================] - 1s 19ms/step - loss: 0.0101 - val_loss: 0.4130\n",
      "Epoch 93/100\n",
      "33/33 [==============================] - 1s 18ms/step - loss: 0.0100 - val_loss: 0.3976\n",
      "Epoch 94/100\n",
      "33/33 [==============================] - 1s 18ms/step - loss: 0.0098 - val_loss: 0.4053\n",
      "Epoch 95/100\n",
      "33/33 [==============================] - 1s 18ms/step - loss: 0.0096 - val_loss: 0.3945\n",
      "Epoch 96/100\n",
      "33/33 [==============================] - 1s 18ms/step - loss: 0.0098 - val_loss: 0.4230\n",
      "Epoch 97/100\n",
      "33/33 [==============================] - 1s 18ms/step - loss: 0.0098 - val_loss: 0.3865\n",
      "Epoch 98/100\n",
      "33/33 [==============================] - 1s 18ms/step - loss: 0.0100 - val_loss: 0.4232\n",
      "Epoch 99/100\n",
      "33/33 [==============================] - 1s 18ms/step - loss: 0.0099 - val_loss: 0.3867\n",
      "Epoch 100/100\n",
      "33/33 [==============================] - 1s 18ms/step - loss: 0.0097 - val_loss: 0.4126\n"
     ]
    }
   ],
   "source": [
    "import tensorflow as tf\n",
    "from tensorflow import keras\n",
    "from tensorflow.keras import layers\n",
    "\n",
    "model_lstm = tf.keras.Sequential()\n",
    "model_lstm.add(tf.keras.layers.LSTM(units=75, return_sequences =True,input_shape=(x_train.shape[1], x_train.shape[2])))\n",
    "model_lstm.add(tf.keras.layers.LSTM(units=30, return_sequences =True))\n",
    "model_lstm.add(tf.keras.layers.LSTM(units=30, return_sequences =True))\n",
    "\n",
    "model_lstm.add(tf.keras.layers.Dense(units=1))\n",
    "model_lstm.compile(loss='mae', optimizer='adam')\n",
    "model_lstm.summary()\n",
    "\n",
    "history_lstm = model_lstm.fit(x_train, y_train, epochs =100, batch_size=32, validation_data =(x_test, y_test), shuffle=False)"
   ]
  },
  {
   "cell_type": "code",
   "execution_count": 27,
   "metadata": {},
   "outputs": [],
   "source": [
    "# import matplotlib.pyplot as plt\n",
    "# plt.figure(figsize=(10, 6))\n",
    "# plt.plot(history_lstm.history['loss'], label ='train_loss', color='red')\n",
    "# plt.plot(history_lstm.history['val_loss'], label ='test_loss', color='blue')\n",
    "# plt.xlabel('epochs')\n",
    "# plt.ylabel('loss')\n",
    "# plt.legend(loc='best')"
   ]
  },
  {
   "cell_type": "code",
   "execution_count": 28,
   "metadata": {},
   "outputs": [
    {
     "data": {
      "text/plain": [
       "(116, 19, 22)"
      ]
     },
     "execution_count": 28,
     "metadata": {},
     "output_type": "execute_result"
    }
   ],
   "source": [
    "x_test.shape"
   ]
  },
  {
   "cell_type": "code",
   "execution_count": 29,
   "metadata": {},
   "outputs": [],
   "source": [
    "y_pred_tf_lstm = model_lstm.predict(x_test)\n",
    "\n",
    "y_pred_tf_lstm = y_pred_tf_lstm[:, -1, 0]"
   ]
  },
  {
   "cell_type": "code",
   "execution_count": 30,
   "metadata": {},
   "outputs": [
    {
     "data": {
      "text/plain": [
       "(116,)"
      ]
     },
     "execution_count": 30,
     "metadata": {},
     "output_type": "execute_result"
    }
   ],
   "source": [
    "y_test.shape"
   ]
  },
  {
   "cell_type": "code",
   "execution_count": 31,
   "metadata": {},
   "outputs": [
    {
     "data": {
      "text/plain": [
       "(116,)"
      ]
     },
     "execution_count": 31,
     "metadata": {},
     "output_type": "execute_result"
    }
   ],
   "source": [
    "y_pred_tf_lstm.shape"
   ]
  },
  {
   "cell_type": "code",
   "execution_count": 32,
   "metadata": {},
   "outputs": [
    {
     "data": {
      "text/plain": [
       "<matplotlib.legend.Legend at 0x27e9cbd1c88>"
      ]
     },
     "execution_count": 32,
     "metadata": {},
     "output_type": "execute_result"
    },
    {
     "data": {
      "image/png": "[encoded data removed]",
      "text/plain": [
       "<Figure size 1080x720 with 1 Axes>"
      ]
     },
     "metadata": {
      "needs_background": "light"
     },
     "output_type": "display_data"
    }
   ],
   "source": [
    "import matplotlib.pyplot as plt\n",
    "plt.figure(figsize=(15, 10))\n",
    "plt.plot(y_pred_tf_lstm, label ='pred')\n",
    "plt.plot(y_test, label ='actual')\n",
    "plt.legend(loc='best')"
   ]
  },
  {
   "cell_type": "code",
   "execution_count": 33,
   "metadata": {},
   "outputs": [
    {
     "data": {
      "text/plain": [
       "<matplotlib.legend.Legend at 0x27e9f16fd88>"
      ]
     },
     "execution_count": 33,
     "metadata": {},
     "output_type": "execute_result"
    },
    {
     "data": {
      "image/png": "[encoded data removed]",
      "text/plain": [
       "<Figure size 1080x720 with 1 Axes>"
      ]
     },
     "metadata": {
      "needs_background": "light"
     },
     "output_type": "display_data"
    }
   ],
   "source": [
    "# smaller test size\n",
    "import matplotlib.pyplot as plt\n",
    "plt.figure(figsize=(15, 10))\n",
    "plt.plot(y_pred_tf_lstm, label ='pred')\n",
    "plt.plot(y_test, label ='actual')\n",
    "plt.legend(loc='best')"
   ]
  },
  {
   "cell_type": "markdown",
   "metadata": {},
   "source": [
    "## GRU\n"
   ]
  },
  {
   "cell_type": "code",
   "execution_count": 34,
   "metadata": {},
   "outputs": [
    {
     "name": "stdout",
     "output_type": "stream",
     "text": [
      "Model: \"sequential_1\"\n",
      "_________________________________________________________________\n",
      "Layer (type)                 Output Shape              Param #   \n",
      "=================================================================\n",
      "gru (GRU)                    (None, 19, 75)            22275     \n",
      "_________________________________________________________________\n",
      "gru_1 (GRU)                  (None, 19, 30)            9630      \n",
      "_________________________________________________________________\n",
      "gru_2 (GRU)                  (None, 30)                5580      \n",
      "_________________________________________________________________\n",
      "dense_1 (Dense)              (None, 1)                 31        \n",
      "=================================================================\n",
      "Total params: 37,516\n",
      "Trainable params: 37,516\n",
      "Non-trainable params: 0\n",
      "_________________________________________________________________\n",
      "Epoch 1/100\n",
      "33/33 [==============================] - 1s 45ms/step - loss: 0.0334 - val_loss: 0.4689\n",
      "Epoch 2/100\n",
      "33/33 [==============================] - 1s 21ms/step - loss: 0.0477 - val_loss: 0.4397\n",
      "Epoch 3/100\n",
      "33/33 [==============================] - 1s 20ms/step - loss: 0.0383 - val_loss: 0.3356\n",
      "Epoch 4/100\n",
      "33/33 [==============================] - 1s 20ms/step - loss: 0.0231 - val_loss: 0.3395\n",
      "Epoch 5/100\n",
      "33/33 [==============================] - 1s 20ms/step - loss: 0.0253 - val_loss: 0.3440\n",
      "Epoch 6/100\n",
      "33/33 [==============================] - 1s 20ms/step - loss: 0.0258 - val_loss: 0.3767\n",
      "Epoch 7/100\n",
      "33/33 [==============================] - 1s 20ms/step - loss: 0.0285 - val_loss: 0.3481\n",
      "Epoch 8/100\n",
      "33/33 [==============================] - 1s 20ms/step - loss: 0.0224 - val_loss: 0.3224\n",
      "Epoch 9/100\n",
      "33/33 [==============================] - 1s 20ms/step - loss: 0.0197 - val_loss: 0.3006\n",
      "Epoch 10/100\n",
      "33/33 [==============================] - 1s 20ms/step - loss: 0.0193 - val_loss: 0.3216\n",
      "Epoch 11/100\n",
      "33/33 [==============================] - 1s 20ms/step - loss: 0.0187 - val_loss: 0.3158\n",
      "Epoch 12/100\n",
      "33/33 [==============================] - 1s 20ms/step - loss: 0.0163 - val_loss: 0.2441\n",
      "Epoch 13/100\n",
      "33/33 [==============================] - 1s 20ms/step - loss: 0.0164 - val_loss: 0.3714\n",
      "Epoch 14/100\n",
      "33/33 [==============================] - 1s 20ms/step - loss: 0.0177 - val_loss: 0.2172\n",
      "Epoch 15/100\n",
      "33/33 [==============================] - 1s 20ms/step - loss: 0.0148 - val_loss: 0.3649\n",
      "Epoch 16/100\n",
      "33/33 [==============================] - 1s 20ms/step - loss: 0.0175 - val_loss: 0.2386\n",
      "Epoch 17/100\n",
      "33/33 [==============================] - 1s 20ms/step - loss: 0.0146 - val_loss: 0.3501\n",
      "Epoch 18/100\n",
      "33/33 [==============================] - 1s 20ms/step - loss: 0.0158 - val_loss: 0.2333\n",
      "Epoch 19/100\n",
      "33/33 [==============================] - 1s 20ms/step - loss: 0.0130 - val_loss: 0.3187\n",
      "Epoch 20/100\n",
      "33/33 [==============================] - 1s 20ms/step - loss: 0.0142 - val_loss: 0.2181\n",
      "Epoch 21/100\n",
      "33/33 [==============================] - 1s 20ms/step - loss: 0.0120 - val_loss: 0.3110\n",
      "Epoch 22/100\n",
      "33/33 [==============================] - 1s 20ms/step - loss: 0.0129 - val_loss: 0.2255\n",
      "Epoch 23/100\n",
      "33/33 [==============================] - 1s 20ms/step - loss: 0.0107 - val_loss: 0.3034\n",
      "Epoch 24/100\n",
      "33/33 [==============================] - 1s 20ms/step - loss: 0.0129 - val_loss: 0.2534\n",
      "Epoch 25/100\n",
      "33/33 [==============================] - 1s 20ms/step - loss: 0.0106 - val_loss: 0.3041\n",
      "Epoch 26/100\n",
      "33/33 [==============================] - 1s 20ms/step - loss: 0.0126 - val_loss: 0.2581\n",
      "Epoch 27/100\n",
      "33/33 [==============================] - 1s 20ms/step - loss: 0.0117 - val_loss: 0.2897\n",
      "Epoch 28/100\n",
      "33/33 [==============================] - 1s 20ms/step - loss: 0.0108 - val_loss: 0.2321\n",
      "Epoch 29/100\n",
      "33/33 [==============================] - 1s 20ms/step - loss: 0.0100 - val_loss: 0.2954\n",
      "Epoch 30/100\n",
      "33/33 [==============================] - 1s 20ms/step - loss: 0.0114 - val_loss: 0.2544\n",
      "Epoch 31/100\n",
      "33/33 [==============================] - 1s 20ms/step - loss: 0.0095 - val_loss: 0.2762\n",
      "Epoch 32/100\n",
      "33/33 [==============================] - 1s 20ms/step - loss: 0.0093 - val_loss: 0.2589\n",
      "Epoch 33/100\n",
      "33/33 [==============================] - 1s 20ms/step - loss: 0.0090 - val_loss: 0.2882\n",
      "Epoch 34/100\n",
      "33/33 [==============================] - 1s 20ms/step - loss: 0.0092 - val_loss: 0.2660\n",
      "Epoch 35/100\n",
      "33/33 [==============================] - 1s 20ms/step - loss: 0.0073 - val_loss: 0.2545\n",
      "Epoch 36/100\n",
      "33/33 [==============================] - 1s 20ms/step - loss: 0.0065 - val_loss: 0.3031\n",
      "Epoch 37/100\n",
      "33/33 [==============================] - 1s 20ms/step - loss: 0.0104 - val_loss: 0.3239\n",
      "Epoch 38/100\n",
      "33/33 [==============================] - 1s 20ms/step - loss: 0.0119 - val_loss: 0.2998\n",
      "Epoch 39/100\n",
      "33/33 [==============================] - 1s 20ms/step - loss: 0.0086 - val_loss: 0.2471\n",
      "Epoch 40/100\n",
      "33/33 [==============================] - 1s 20ms/step - loss: 0.0061 - val_loss: 0.2584\n",
      "Epoch 41/100\n",
      "33/33 [==============================] - 1s 20ms/step - loss: 0.0054 - val_loss: 0.2300\n",
      "Epoch 42/100\n",
      "33/33 [==============================] - 1s 20ms/step - loss: 0.0052 - val_loss: 0.2865\n",
      "Epoch 43/100\n",
      "33/33 [==============================] - 1s 20ms/step - loss: 0.0088 - val_loss: 0.2778\n",
      "Epoch 44/100\n",
      "33/33 [==============================] - 1s 20ms/step - loss: 0.0071 - val_loss: 0.2419\n",
      "Epoch 45/100\n",
      "33/33 [==============================] - 1s 20ms/step - loss: 0.0051 - val_loss: 0.3120\n",
      "Epoch 46/100\n",
      "33/33 [==============================] - 1s 20ms/step - loss: 0.0098 - val_loss: 0.2861\n",
      "Epoch 47/100\n",
      "33/33 [==============================] - 1s 21ms/step - loss: 0.0067 - val_loss: 0.2664\n",
      "Epoch 48/100\n",
      "33/33 [==============================] - 1s 20ms/step - loss: 0.0046 - val_loss: 0.2262\n",
      "Epoch 49/100\n",
      "33/33 [==============================] - 1s 20ms/step - loss: 0.0044 - val_loss: 0.2397\n",
      "Epoch 50/100\n",
      "33/33 [==============================] - 1s 20ms/step - loss: 0.0044 - val_loss: 0.2260\n",
      "Epoch 51/100\n",
      "33/33 [==============================] - 1s 20ms/step - loss: 0.0036 - val_loss: 0.2763\n",
      "Epoch 52/100\n",
      "33/33 [==============================] - 1s 20ms/step - loss: 0.0049 - val_loss: 0.2455\n",
      "Epoch 53/100\n",
      "33/33 [==============================] - 1s 20ms/step - loss: 0.0068 - val_loss: 0.1891\n",
      "Epoch 54/100\n",
      "33/33 [==============================] - 1s 20ms/step - loss: 0.0045 - val_loss: 0.2588\n",
      "Epoch 55/100\n",
      "33/33 [==============================] - 1s 20ms/step - loss: 0.0042 - val_loss: 0.2665\n",
      "Epoch 56/100\n",
      "33/33 [==============================] - 1s 20ms/step - loss: 0.0078 - val_loss: 0.2346\n",
      "Epoch 57/100\n",
      "33/33 [==============================] - 1s 20ms/step - loss: 0.0051 - val_loss: 0.2384\n",
      "Epoch 58/100\n",
      "33/33 [==============================] - 1s 20ms/step - loss: 0.0062 - val_loss: 0.2630\n",
      "Epoch 59/100\n",
      "33/33 [==============================] - 1s 20ms/step - loss: 0.0061 - val_loss: 0.2734\n",
      "Epoch 60/100\n",
      "33/33 [==============================] - 1s 20ms/step - loss: 0.0059 - val_loss: 0.2863\n",
      "Epoch 61/100\n",
      "33/33 [==============================] - 1s 20ms/step - loss: 0.0056 - val_loss: 0.2679\n",
      "Epoch 62/100\n",
      "33/33 [==============================] - 1s 20ms/step - loss: 0.0046 - val_loss: 0.2969\n",
      "Epoch 63/100\n",
      "33/33 [==============================] - 1s 20ms/step - loss: 0.0052 - val_loss: 0.2922\n",
      "Epoch 64/100\n",
      "33/33 [==============================] - 1s 20ms/step - loss: 0.0077 - val_loss: 0.2509\n",
      "Epoch 65/100\n",
      "33/33 [==============================] - 1s 20ms/step - loss: 0.0065 - val_loss: 0.2778\n",
      "Epoch 66/100\n",
      "33/33 [==============================] - 1s 20ms/step - loss: 0.0048 - val_loss: 0.2395\n",
      "Epoch 67/100\n",
      "33/33 [==============================] - 1s 19ms/step - loss: 0.0063 - val_loss: 0.1978\n",
      "Epoch 68/100\n",
      "33/33 [==============================] - 1s 20ms/step - loss: 0.0058 - val_loss: 0.2948\n",
      "Epoch 69/100\n",
      "33/33 [==============================] - 1s 20ms/step - loss: 0.0071 - val_loss: 0.2189\n",
      "Epoch 70/100\n",
      "33/33 [==============================] - 1s 20ms/step - loss: 0.0057 - val_loss: 0.3012\n",
      "Epoch 71/100\n",
      "33/33 [==============================] - 1s 20ms/step - loss: 0.0053 - val_loss: 0.2380\n",
      "Epoch 72/100\n",
      "33/33 [==============================] - 1s 20ms/step - loss: 0.0044 - val_loss: 0.2209\n",
      "Epoch 73/100\n"
     ]
    },
    {
     "name": "stdout",
     "output_type": "stream",
     "text": [
      "33/33 [==============================] - 1s 20ms/step - loss: 0.0044 - val_loss: 0.2211\n",
      "Epoch 74/100\n",
      "33/33 [==============================] - 1s 20ms/step - loss: 0.0041 - val_loss: 0.2740\n",
      "Epoch 75/100\n",
      "33/33 [==============================] - 1s 20ms/step - loss: 0.0048 - val_loss: 0.2772\n",
      "Epoch 76/100\n",
      "33/33 [==============================] - 1s 20ms/step - loss: 0.0076 - val_loss: 0.2309\n",
      "Epoch 77/100\n",
      "33/33 [==============================] - 1s 23ms/step - loss: 0.0041 - val_loss: 0.2480\n",
      "Epoch 78/100\n",
      "33/33 [==============================] - 1s 26ms/step - loss: 0.0041 - val_loss: 0.2425\n",
      "Epoch 79/100\n",
      "33/33 [==============================] - 1s 25ms/step - loss: 0.0044 - val_loss: 0.2417\n",
      "Epoch 80/100\n",
      "33/33 [==============================] - 1s 21ms/step - loss: 0.0035 - val_loss: 0.2966\n",
      "Epoch 81/100\n",
      "33/33 [==============================] - 1s 21ms/step - loss: 0.0051 - val_loss: 0.2499\n",
      "Epoch 82/100\n",
      "33/33 [==============================] - 1s 22ms/step - loss: 0.0049 - val_loss: 0.2004\n",
      "Epoch 83/100\n",
      "33/33 [==============================] - 1s 21ms/step - loss: 0.0051 - val_loss: 0.2661\n",
      "Epoch 84/100\n",
      "33/33 [==============================] - 1s 30ms/step - loss: 0.0047 - val_loss: 0.2902\n",
      "Epoch 85/100\n",
      "33/33 [==============================] - 1s 25ms/step - loss: 0.0092 - val_loss: 0.2258\n",
      "Epoch 86/100\n",
      "33/33 [==============================] - 1s 21ms/step - loss: 0.0046 - val_loss: 0.2475\n",
      "Epoch 87/100\n",
      "33/33 [==============================] - 1s 21ms/step - loss: 0.0039 - val_loss: 0.2647\n",
      "Epoch 88/100\n",
      "33/33 [==============================] - 1s 22ms/step - loss: 0.0043 - val_loss: 0.2463\n",
      "Epoch 89/100\n",
      "33/33 [==============================] - 1s 23ms/step - loss: 0.0042 - val_loss: 0.2551\n",
      "Epoch 90/100\n",
      "33/33 [==============================] - 1s 23ms/step - loss: 0.0040 - val_loss: 0.2639\n",
      "Epoch 91/100\n",
      "33/33 [==============================] - 1s 23ms/step - loss: 0.0043 - val_loss: 0.2518\n",
      "Epoch 92/100\n",
      "33/33 [==============================] - 1s 23ms/step - loss: 0.0044 - val_loss: 0.2525\n",
      "Epoch 93/100\n",
      "33/33 [==============================] - 1s 23ms/step - loss: 0.0038 - val_loss: 0.2839\n",
      "Epoch 94/100\n",
      "33/33 [==============================] - 1s 23ms/step - loss: 0.0043 - val_loss: 0.2555\n",
      "Epoch 95/100\n",
      "33/33 [==============================] - 1s 27ms/step - loss: 0.0052 - val_loss: 0.2132\n",
      "Epoch 96/100\n",
      "33/33 [==============================] - 1s 27ms/step - loss: 0.0058 - val_loss: 0.3173\n",
      "Epoch 97/100\n",
      "33/33 [==============================] - 1s 27ms/step - loss: 0.0060 - val_loss: 0.2487\n",
      "Epoch 98/100\n",
      "33/33 [==============================] - 1s 34ms/step - loss: 0.0047 - val_loss: 0.2287\n",
      "Epoch 99/100\n",
      "33/33 [==============================] - 1s 25ms/step - loss: 0.0051 - val_loss: 0.2642\n",
      "Epoch 100/100\n",
      "33/33 [==============================] - 1s 22ms/step - loss: 0.0041 - val_loss: 0.2523\n"
     ]
    }
   ],
   "source": [
    "import tensorflow as tf\n",
    "from tensorflow import keras\n",
    "from tensorflow.keras import layers\n",
    "\n",
    "model_gru = tf.keras.Sequential()\n",
    "model_gru.add(tf.keras.layers.GRU(units=75, return_sequences =True,input_shape=(x_train.shape[1], x_train.shape[2])))\n",
    "model_gru.add(tf.keras.layers.GRU(units=30, return_sequences =True))\n",
    "model_gru.add(tf.keras.layers.GRU(units=30))\n",
    "model_gru.add(tf.keras.layers.Dense(units=1))\n",
    "\n",
    "model_gru.compile(loss='mae', optimizer='adam')\n",
    "model_gru.summary()\n",
    "\n",
    "history_gru = model_gru.fit(x_train, y_train, epochs =100, batch_size=32, validation_data =(x_test, y_test), shuffle=False)"
   ]
  },
  {
   "cell_type": "code",
   "execution_count": null,
   "metadata": {},
   "outputs": [],
   "source": []
  },
  {
   "cell_type": "code",
   "execution_count": 35,
   "metadata": {},
   "outputs": [],
   "source": [
    "# import matplotlib.pyplot as plt\n",
    "# plt.figure(figsize=(10, 6))\n",
    "# plt.plot(history_gru.history['loss'], label ='train_loss', color='red')\n",
    "# plt.plot(history_gru.history['val_loss'], label ='test_loss', color='blue')\n",
    "# plt.xlabel('epochs')\n",
    "# plt.ylabel('loss')\n",
    "# plt.legend(loc='best')"
   ]
  },
  {
   "cell_type": "code",
   "execution_count": 36,
   "metadata": {},
   "outputs": [
    {
     "data": {
      "text/plain": [
       "<matplotlib.legend.Legend at 0x27ea943a5c8>"
      ]
     },
     "execution_count": 36,
     "metadata": {},
     "output_type": "execute_result"
    },
    {
     "data": {
      "image/png": "[encoded data removed]",
      "text/plain": [
       "<Figure size 1080x720 with 1 Axes>"
      ]
     },
     "metadata": {
      "needs_background": "light"
     },
     "output_type": "display_data"
    }
   ],
   "source": [
    "y_pred_tf_gru = model_gru.predict(x_test)\n",
    "import matplotlib.pyplot as plt\n",
    "plt.figure(figsize=(15, 10))\n",
    "plt.plot(y_pred_tf_gru, label ='pred')\n",
    "plt.plot(y_test, label ='actual')\n",
    "plt.legend(loc='best')"
   ]
  },
  {
   "cell_type": "code",
   "execution_count": null,
   "metadata": {},
   "outputs": [],
   "source": []
  },
  {
   "cell_type": "code",
   "execution_count": 37,
   "metadata": {},
   "outputs": [],
   "source": [
    "# scaler.scale_\n",
    "# normal_scale = 1/5.21225901e-05\n",
    "\n",
    "# y_pred = y_pred * normal_scale\n",
    "# y_test = y_test * normal_scale\n",
    "\n",
    "# mean_y_test = y_test.mean()\n",
    "# mean_y_pred = y_pred.mean()\n",
    "\n",
    "# print(mean_y_test, mean_y_pred)\n",
    "# accuracy = round((mean_y_test/mean_y_pred )*100, 2)\n",
    "# accuracy"
   ]
  },
  {
   "cell_type": "code",
   "execution_count": 38,
   "metadata": {},
   "outputs": [],
   "source": [
    "# X_train.shape"
   ]
  },
  {
   "cell_type": "code",
   "execution_count": 39,
   "metadata": {},
   "outputs": [
    {
     "name": "stdout",
     "output_type": "stream",
     "text": [
      "(1049, 19, 22)\n",
      "(1049,)\n",
      "(116, 19, 22)\n",
      "(116,)\n"
     ]
    }
   ],
   "source": [
    "print (x_train.shape)\n",
    "print (y_train.shape)\n",
    "print (x_test.shape)\n",
    "print (y_test.shape)"
   ]
  },
  {
   "cell_type": "code",
   "execution_count": null,
   "metadata": {},
   "outputs": [],
   "source": []
  },
  {
   "cell_type": "markdown",
   "metadata": {},
   "source": [
    "# Pytorch"
   ]
  },
  {
   "cell_type": "code",
   "execution_count": 40,
   "metadata": {},
   "outputs": [],
   "source": [
    "input_dim = 22\n",
    "hidden_dim = 32\n",
    "num_layers = 2\n",
    "output_dim = 1\n",
    "num_epochs = 100"
   ]
  },
  {
   "cell_type": "code",
   "execution_count": 41,
   "metadata": {},
   "outputs": [],
   "source": [
    "import torch\n",
    "import torch.nn as nn\n",
    "\n",
    "x_train_gru = torch.from_numpy(x_train).type(torch.Tensor)\n",
    "x_test_gru = torch.from_numpy(x_test).type(torch.Tensor)\n",
    "y_train_gru = torch.from_numpy(y_train).type(torch.Tensor)\n",
    "y_test_gru = torch.from_numpy(y_test).type(torch.Tensor)\n"
   ]
  },
  {
   "cell_type": "code",
   "execution_count": null,
   "metadata": {},
   "outputs": [],
   "source": []
  },
  {
   "cell_type": "code",
   "execution_count": 42,
   "metadata": {},
   "outputs": [],
   "source": [
    "class GRU(nn.Module):\n",
    "    def __init__(self, input_dim, hidden_dim, num_layers, output_dim):\n",
    "        super(GRU, self).__init__()\n",
    "        self.hidden_dim = hidden_dim\n",
    "        self.num_layers = num_layers\n",
    "        \n",
    "        self.gru = nn.GRU(input_dim, hidden_dim, num_layers, batch_first=True)\n",
    "        self.fc = nn.Linear(hidden_dim, output_dim)\n",
    "\n",
    "    def forward(self, x):\n",
    "        h0 = torch.zeros(self.num_layers, x.size(0), self.hidden_dim).requires_grad_()\n",
    "        out, (hn) = self.gru(x, (h0.detach()))\n",
    "        out = self.fc(out[:, -1, :]) \n",
    "        return out"
   ]
  },
  {
   "cell_type": "code",
   "execution_count": 43,
   "metadata": {},
   "outputs": [],
   "source": [
    "model_pt_gru = GRU(input_dim=input_dim, hidden_dim=hidden_dim, output_dim=output_dim, num_layers=num_layers)\n",
    "criterion = torch.nn.MSELoss(reduction='mean')\n",
    "optimiser = torch.optim.Adam(model_pt_gru.parameters(), lr=0.01)"
   ]
  },
  {
   "cell_type": "code",
   "execution_count": 44,
   "metadata": {},
   "outputs": [
    {
     "ename": "NameError",
     "evalue": "name 'x_train_lstm' is not defined",
     "output_type": "error",
     "traceback": [
      "\u001b[1;31m---------------------------------------------------------------------------\u001b[0m",
      "\u001b[1;31mNameError\u001b[0m                                 Traceback (most recent call last)",
      "\u001b[1;32m<ipython-input-44-f6f6f576e52f>\u001b[0m in \u001b[0;36m<module>\u001b[1;34m\u001b[0m\n\u001b[0;32m      3\u001b[0m \u001b[1;33m\u001b[0m\u001b[0m\n\u001b[0;32m      4\u001b[0m \u001b[1;32mfor\u001b[0m \u001b[0mt\u001b[0m \u001b[1;32min\u001b[0m \u001b[0mrange\u001b[0m\u001b[1;33m(\u001b[0m\u001b[0mnum_epochs\u001b[0m\u001b[1;33m)\u001b[0m\u001b[1;33m:\u001b[0m\u001b[1;33m\u001b[0m\u001b[1;33m\u001b[0m\u001b[0m\n\u001b[1;32m----> 5\u001b[1;33m     \u001b[0my_train_pred\u001b[0m \u001b[1;33m=\u001b[0m \u001b[0mmodel_pt_gru\u001b[0m\u001b[1;33m(\u001b[0m\u001b[0mx_train_lstm\u001b[0m\u001b[1;33m)\u001b[0m\u001b[1;33m\u001b[0m\u001b[1;33m\u001b[0m\u001b[0m\n\u001b[0m\u001b[0;32m      6\u001b[0m     \u001b[0mloss\u001b[0m \u001b[1;33m=\u001b[0m \u001b[0mcriterion\u001b[0m\u001b[1;33m(\u001b[0m\u001b[0my_train_pred\u001b[0m\u001b[1;33m,\u001b[0m \u001b[0my_train_lstm\u001b[0m\u001b[1;33m)\u001b[0m\u001b[1;33m\u001b[0m\u001b[1;33m\u001b[0m\u001b[0m\n\u001b[0;32m      7\u001b[0m     \u001b[0mprint\u001b[0m\u001b[1;33m(\u001b[0m\u001b[1;34m\"Epoch \"\u001b[0m\u001b[1;33m,\u001b[0m \u001b[0mt\u001b[0m\u001b[1;33m,\u001b[0m \u001b[1;34m\"Mean Squared Error: \"\u001b[0m\u001b[1;33m,\u001b[0m \u001b[0mloss\u001b[0m\u001b[1;33m.\u001b[0m\u001b[0mitem\u001b[0m\u001b[1;33m(\u001b[0m\u001b[1;33m)\u001b[0m\u001b[1;33m)\u001b[0m\u001b[1;33m\u001b[0m\u001b[1;33m\u001b[0m\u001b[0m\n",
      "\u001b[1;31mNameError\u001b[0m: name 'x_train_lstm' is not defined"
     ]
    }
   ],
   "source": [
    "import time\n",
    "hist = np.zeros(num_epochs)\n",
    "\n",
    "for t in range(num_epochs):\n",
    "    y_train_pred = model_pt_gru(x_train_lstm)\n",
    "    loss = criterion(y_train_pred, y_train_lstm)\n",
    "    print(\"Epoch \", t, \"Mean Squared Error: \", loss.item())\n",
    "    hist[t] = loss.item()\n",
    "    optimiser.zero_grad()\n",
    "    loss.backward()\n",
    "    optimiser.step()\n",
    "    \n",
    "training_time = time.time()-start_time"
   ]
  },
  {
   "cell_type": "code",
   "execution_count": null,
   "metadata": {},
   "outputs": [],
   "source": [
    "y_pred_pt_gru = model_pt_gru(x_test_lstm)\n"
   ]
  },
  {
   "cell_type": "code",
   "execution_count": null,
   "metadata": {},
   "outputs": [],
   "source": [
    "y_pred_pt_gru.detach().numpy()"
   ]
  },
  {
   "cell_type": "code",
   "execution_count": null,
   "metadata": {},
   "outputs": [],
   "source": [
    "y_test_gru"
   ]
  },
  {
   "cell_type": "code",
   "execution_count": null,
   "metadata": {},
   "outputs": [],
   "source": [
    "import matplotlib.pyplot as plt\n",
    "plt.figure(figsize=(15, 10))\n",
    "plt.plot(y_pred_pt_gru.detach().numpy(), label ='pred')\n",
    "plt.plot(y_test_gru, label ='actual')\n",
    "plt.legend(loc='best')"
   ]
  },
  {
   "cell_type": "code",
   "execution_count": null,
   "metadata": {},
   "outputs": [],
   "source": []
  },
  {
   "cell_type": "code",
   "execution_count": null,
   "metadata": {},
   "outputs": [],
   "source": []
  },
  {
   "cell_type": "code",
   "execution_count": null,
   "metadata": {},
   "outputs": [],
   "source": []
  },
  {
   "cell_type": "code",
   "execution_count": null,
   "metadata": {},
   "outputs": [],
   "source": []
  },
  {
   "cell_type": "code",
   "execution_count": null,
   "metadata": {},
   "outputs": [],
   "source": []
  },
  {
   "cell_type": "code",
   "execution_count": null,
   "metadata": {},
   "outputs": [],
   "source": []
  },
  {
   "cell_type": "code",
   "execution_count": null,
   "metadata": {},
   "outputs": [],
   "source": []
  },
  {
   "cell_type": "code",
   "execution_count": null,
   "metadata": {},
   "outputs": [],
   "source": []
  },
  {
   "cell_type": "code",
   "execution_count": null,
   "metadata": {},
   "outputs": [],
   "source": []
  },
  {
   "cell_type": "code",
   "execution_count": null,
   "metadata": {},
   "outputs": [],
   "source": []
  },
  {
   "cell_type": "code",
   "execution_count": null,
   "metadata": {},
   "outputs": [],
   "source": []
  },
  {
   "cell_type": "code",
   "execution_count": null,
   "metadata": {},
   "outputs": [],
   "source": []
  },
  {
   "cell_type": "code",
   "execution_count": null,
   "metadata": {},
   "outputs": [],
   "source": []
  }
 ],
 "metadata": {
  "kernelspec": {
   "display_name": "Python 3",
   "language": "python",
   "name": "python3"
  },
  "language_info": {
   "codemirror_mode": {
    "name": "ipython",
    "version": 3
   },
   "file_extension": ".py",
   "mimetype": "text/x-python",
   "name": "python",
   "nbconvert_exporter": "python",
   "pygments_lexer": "ipython3",
   "version": "3.7.4"
  }
 },
 "nbformat": 4,
 "nbformat_minor": 2
}
