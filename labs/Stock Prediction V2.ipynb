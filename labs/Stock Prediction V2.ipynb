{
 "cells": [
  {
   "cell_type": "code",
   "execution_count": 7,
   "metadata": {},
   "outputs": [],
   "source": [
    "import pandas as pd\n",
    "import numpy as np"
   ]
  },
  {
   "cell_type": "code",
   "execution_count": 8,
   "metadata": {},
   "outputs": [],
   "source": [
    "data = pd.read_csv(\"../data/btc.csv\")"
   ]
  },
  {
   "cell_type": "markdown",
   "metadata": {},
   "source": [
    "# Feature Engineering\n"
   ]
  },
  {
   "cell_type": "code",
   "execution_count": 9,
   "metadata": {},
   "outputs": [],
   "source": [
    "import copy\n",
    "tek_ind_1 = copy.deepcopy(data)\n",
    "tek_ind_2 = copy.deepcopy(data)"
   ]
  },
  {
   "cell_type": "code",
   "execution_count": null,
   "metadata": {},
   "outputs": [],
   "source": []
  },
  {
   "cell_type": "code",
   "execution_count": null,
   "metadata": {},
   "outputs": [],
   "source": []
  },
  {
   "cell_type": "code",
   "execution_count": 10,
   "metadata": {},
   "outputs": [],
   "source": [
    "tek_ind_1['daily_return'] = tek_ind_1.close.pct_change().fillna(0) # Percentage change between the current and a prior element\n",
    "tek_ind_1['cum_daily_return'] = (1 + tek_ind_1['daily_return']).cumprod() # Cummulative Product (+1 is used not so we can ignore the 0s in the first couple rows)\n",
    "\n",
    "tek_ind_1['H-L'] = tek_ind_1.high - tek_ind_1.low\n",
    "\n",
    "tek_ind_1['C-O'] = tek_ind_1.close - tek_ind_1.open\n",
    "\n",
    "tek_ind_1['10day Ma'] = tek_ind_1.close.shift(1).rolling(window = 10).mean().fillna(0)\n",
    "tek_ind_1['50day Ma'] = tek_ind_1.close.shift(1).rolling(window = 50).mean().fillna(0)\n",
    "tek_ind_1['200day Ma'] = tek_ind_1.close.shift(1).rolling(window = 200).mean().fillna(0)\n",
    "\n",
    "import talib\n",
    "tek_ind_1['rsi'] = talib.RSI(tek_ind_1.close.values, timeperiod = 14)\n",
    "\n",
    "tek_ind_1['williams %R'] = talib.WILLR(tek_ind_1.high.values,\n",
    "                                       tek_ind_1.low.values, \n",
    "                                      tek_ind_1.close.values, \n",
    "                                      14)\n",
    "\n",
    "# create 7 and 21 days Moving Average\n",
    "tek_ind_1['ma7'] = tek_ind_1.close.rolling(window=7).mean().fillna(0)\n",
    "tek_ind_1['ma21'] = tek_ind_1.close.rolling(window=21).mean().fillna(0)\n",
    "\n",
    "# creating MACD\n",
    "tek_ind_1['ema_26'] = tek_ind_1.close.ewm(span=26).mean().fillna(0)\n",
    "tek_ind_1['ema_12'] = tek_ind_1.close.ewm(span=12).mean().fillna(0)\n",
    "tek_ind_1['macd'] = (tek_ind_1['ema_12'] - tek_ind_1['ema_26'])"
   ]
  },
  {
   "cell_type": "code",
   "execution_count": 20,
   "metadata": {},
   "outputs": [],
   "source": [
    "# creating bollinger Bands\n",
    "#Set number of days and standard deviation to use for rolling lookback period for bollinger band calculation\n",
    "window = 21\n",
    "no_of_std =2\n",
    "\n",
    "#calculate rolling mean and standard deviation using number of days set above\n",
    "rolling_mean = tek_ind_1.close.rolling(window).mean()\n",
    "rolling_std = tek_ind_1.close.rolling(window).std()\n",
    "\n",
    "#create two new DF column to hold values of upper and lower Bollinger bands\n",
    "tek_ind_1['bb_high'] =(rolling_mean + (rolling_std * no_of_std)).fillna(0)\n",
    "tek_ind_1['bb_low'] =(rolling_mean - (rolling_std * no_of_std)).fillna(0)\n",
    "\n",
    "#create exponental moving average\n",
    "tek_ind_1['ema'] = tek_ind_1.close.ewm(com=0.5).mean()\n",
    "\n",
    "#create momentum\n",
    "tek_ind_1['momentum'] = tek_ind_1.close - 1\n",
    "\n",
    "# tek_ind_1.head(20)"
   ]
  },
  {
   "cell_type": "code",
   "execution_count": 21,
   "metadata": {},
   "outputs": [],
   "source": []
  },
  {
   "cell_type": "code",
   "execution_count": 25,
   "metadata": {},
   "outputs": [],
   "source": [
    "# import matplotlib.pyplot as plt\n",
    "# plt.figure(figsize=(15, 10))\n",
    "# plt.plot(tek_ind_1['close'], label ='Actual')\n",
    "# plt.plot(tek_ind_1['bb_high'], label ='10day Ma')\n",
    "# plt.plot(tek_ind_1['bb_low'], label ='10day Ma')\n",
    "# plt.legend(loc='best')"
   ]
  },
  {
   "cell_type": "code",
   "execution_count": null,
   "metadata": {},
   "outputs": [],
   "source": []
  }
 ],
 "metadata": {
  "kernelspec": {
   "display_name": "Python 3",
   "language": "python",
   "name": "python3"
  },
  "language_info": {
   "codemirror_mode": {
    "name": "ipython",
    "version": 3
   },
   "file_extension": ".py",
   "mimetype": "text/x-python",
   "name": "python",
   "nbconvert_exporter": "python",
   "pygments_lexer": "ipython3",
   "version": "3.7.4"
  }
 },
 "nbformat": 4,
 "nbformat_minor": 2
}
