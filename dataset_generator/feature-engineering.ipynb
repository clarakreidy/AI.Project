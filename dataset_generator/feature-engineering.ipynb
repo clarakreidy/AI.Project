{
 "cells": [
  {
   "cell_type": "code",
   "execution_count": 8,
   "metadata": {
    "collapsed": true
   },
   "outputs": [],
   "source": [
    "import pandas as pd\n",
    "import numpy as np"
   ]
  },
  {
   "cell_type": "code",
   "execution_count": 9,
   "outputs": [],
   "source": [
    "eth = pd.read_csv('eth.csv')"
   ],
   "metadata": {
    "collapsed": false,
    "pycharm": {
     "name": "#%%\n"
    }
   }
  },
  {
   "cell_type": "code",
   "execution_count": 10,
   "outputs": [],
   "source": [
    "eth['movingAverage'] = eth.adjClose.rolling(20).mean()\n",
    "eth['standardDeviation'] = eth.adjClose.rolling(20).std()"
   ],
   "metadata": {
    "collapsed": false,
    "pycharm": {
     "name": "#%%\n"
    }
   }
  },
  {
   "cell_type": "code",
   "execution_count": 11,
   "outputs": [],
   "source": [
    "eth['BollingerBandsUpper'] = eth['movingAverage'] + (eth['standardDeviation'] * 2)\n",
    "eth['BollingerBandsLower'] = eth['movingAverage'] - (eth['standardDeviation'] * 2)"
   ],
   "metadata": {
    "collapsed": false,
    "pycharm": {
     "name": "#%%\n"
    }
   }
  },
  {
   "cell_type": "markdown",
   "source": [
    "### RSI Calculation Formula\n",
    "1. RSI = 100 – 100 / ( 1 + RS )\n",
    "1. RS = Relative Strength = AvgU / AvgD.\n",
    "1. AvgU = average of all up moves in the last N price bars.\n",
    "1. AvgD = average of all down moves in the last N price bars.\n",
    "1. N = the period of RSI."
   ],
   "metadata": {
    "collapsed": false
   }
  },
  {
   "cell_type": "code",
   "execution_count": 12,
   "outputs": [],
   "source": [
    "def rma(x, n, y0):\n",
    "    a = (n-1) / n\n",
    "    ak = a**np.arange(len(x)-1, -1, -1)\n",
    "    return np.r_[np.full(n, np.nan), y0, np.cumsum(ak * x) / ak / n + y0 * a**np.arange(1, len(x)+1)]"
   ],
   "metadata": {
    "collapsed": false,
    "pycharm": {
     "name": "#%%\n"
    }
   }
  },
  {
   "cell_type": "code",
   "execution_count": 14,
   "outputs": [],
   "source": [
    "N = 14\n",
    "\n",
    "eth['change'] = eth['adjClose'].diff(1)\n",
    "\n",
    "eth['gain'] = eth.change.mask(eth.change < 0, 0.0)\n",
    "eth['loss'] = -eth.change.mask(eth.change > 0, -0.0)\n",
    "\n",
    "eth['AvgU'] = rma(eth.gain[N+1:].to_numpy(), N, np.nansum(eth.gain.to_numpy()[:N+1])/N)\n",
    "eth['AvgD'] = rma(eth.loss[N+1:].to_numpy(), N, np.nansum(eth.loss.to_numpy()[:N+1])/N)\n",
    "\n",
    "eth['rs'] = abs(eth['AvgU']/eth['AvgD'])\n",
    "eth['rsi'] = 100 - 100 / (1 + eth['rs'])"
   ],
   "metadata": {
    "collapsed": false,
    "pycharm": {
     "name": "#%%\n"
    }
   }
  },
  {
   "cell_type": "code",
   "execution_count": 16,
   "outputs": [],
   "source": [
    "eth.to_csv('eth_1.csv', index=False)\n"
   ],
   "metadata": {
    "collapsed": false,
    "pycharm": {
     "name": "#%%\n"
    }
   }
  },
  {
   "cell_type": "markdown",
   "source": [
    "### The Formula for the Williams %R Is:\n",
    "Wiliams %R = (Highest High - Close) / (Highest High - Lowest Low)\n",
    "\n",
    "Highest High=Highest price in the lookback period, typically 14 days.\n",
    "\n",
    "Close=Most recent closing price.\n",
    "\n",
    "Lowest Low=Lowest price in the lookback period, typically 14 days."
   ],
   "metadata": {
    "collapsed": false
   }
  },
  {
   "cell_type": "code",
   "execution_count": null,
   "outputs": [],
   "source": [],
   "metadata": {
    "collapsed": false,
    "pycharm": {
     "name": "#%%\n"
    }
   }
  }
 ],
 "metadata": {
  "kernelspec": {
   "name": "python3",
   "language": "python",
   "display_name": "Python 3"
  },
  "language_info": {
   "codemirror_mode": {
    "name": "ipython",
    "version": 2
   },
   "file_extension": ".py",
   "mimetype": "text/x-python",
   "name": "python",
   "nbconvert_exporter": "python",
   "pygments_lexer": "ipython2",
   "version": "3.8.5"
  }
 },
 "nbformat": 4,
 "nbformat_minor": 0
}